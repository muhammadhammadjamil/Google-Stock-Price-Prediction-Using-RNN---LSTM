{
  "nbformat": 4,
  "nbformat_minor": 0,
  "metadata": {
    "colab": {
      "name": "Untitled9.ipynb",
      "provenance": []
    },
    "kernelspec": {
      "name": "python3",
      "display_name": "Python 3"
    },
    "language_info": {
      "name": "python"
    },
    "accelerator": "TPU"
  },
  "cells": [
    {
      "cell_type": "code",
      "metadata": {
        "id": "g3VuNozby_8v"
      },
      "source": [
        "import numpy as np\n",
        "from sklearn.preprocessing import MinMaxScaler\n",
        "import pandas as pd\n",
        "import matplotlib.pyplot as plt"
      ],
      "execution_count": 1,
      "outputs": []
    },
    {
      "cell_type": "code",
      "metadata": {
        "id": "wKetmgkbz3r_",
        "colab": {
          "base_uri": "https://localhost:8080/",
          "height": 35
        },
        "outputId": "10d3ee99-5892-4749-dfc3-160a377007ba"
      },
      "source": [
        "pwd"
      ],
      "execution_count": 2,
      "outputs": [
        {
          "output_type": "execute_result",
          "data": {
            "application/vnd.google.colaboratory.intrinsic+json": {
              "type": "string"
            },
            "text/plain": [
              "'/content'"
            ]
          },
          "metadata": {},
          "execution_count": 2
        }
      ]
    },
    {
      "cell_type": "code",
      "metadata": {
        "id": "3tcEs4Pz82Er"
      },
      "source": [
        "data=pd.read_csv('/content/GOOG (2).csv')"
      ],
      "execution_count": 3,
      "outputs": []
    },
    {
      "cell_type": "code",
      "metadata": {
        "colab": {
          "base_uri": "https://localhost:8080/",
          "height": 206
        },
        "id": "mQVqYAj19DPv",
        "outputId": "4b5b2e6c-2921-414b-f384-3178304393fc"
      },
      "source": [
        "data.head()"
      ],
      "execution_count": 4,
      "outputs": [
        {
          "output_type": "execute_result",
          "data": {
            "text/html": [
              "<div>\n",
              "<style scoped>\n",
              "    .dataframe tbody tr th:only-of-type {\n",
              "        vertical-align: middle;\n",
              "    }\n",
              "\n",
              "    .dataframe tbody tr th {\n",
              "        vertical-align: top;\n",
              "    }\n",
              "\n",
              "    .dataframe thead th {\n",
              "        text-align: right;\n",
              "    }\n",
              "</style>\n",
              "<table border=\"1\" class=\"dataframe\">\n",
              "  <thead>\n",
              "    <tr style=\"text-align: right;\">\n",
              "      <th></th>\n",
              "      <th>Date</th>\n",
              "      <th>Open</th>\n",
              "      <th>High</th>\n",
              "      <th>Low</th>\n",
              "      <th>Close</th>\n",
              "      <th>Adj Close</th>\n",
              "      <th>Volume</th>\n",
              "    </tr>\n",
              "  </thead>\n",
              "  <tbody>\n",
              "    <tr>\n",
              "      <th>0</th>\n",
              "      <td>2004-12-08</td>\n",
              "      <td>84.856934</td>\n",
              "      <td>86.515717</td>\n",
              "      <td>84.049957</td>\n",
              "      <td>84.672623</td>\n",
              "      <td>84.672623</td>\n",
              "      <td>15140137</td>\n",
              "    </tr>\n",
              "    <tr>\n",
              "      <th>1</th>\n",
              "      <td>2004-12-09</td>\n",
              "      <td>84.807121</td>\n",
              "      <td>86.426056</td>\n",
              "      <td>83.920448</td>\n",
              "      <td>86.391182</td>\n",
              "      <td>86.391182</td>\n",
              "      <td>15365378</td>\n",
              "    </tr>\n",
              "    <tr>\n",
              "      <th>2</th>\n",
              "      <td>2004-12-10</td>\n",
              "      <td>86.391182</td>\n",
              "      <td>87.113480</td>\n",
              "      <td>85.325180</td>\n",
              "      <td>85.504509</td>\n",
              "      <td>85.504509</td>\n",
              "      <td>8666764</td>\n",
              "    </tr>\n",
              "    <tr>\n",
              "      <th>3</th>\n",
              "      <td>2004-12-13</td>\n",
              "      <td>85.763535</td>\n",
              "      <td>86.266647</td>\n",
              "      <td>84.408615</td>\n",
              "      <td>84.906746</td>\n",
              "      <td>84.906746</td>\n",
              "      <td>9673323</td>\n",
              "    </tr>\n",
              "    <tr>\n",
              "      <th>4</th>\n",
              "      <td>2004-12-14</td>\n",
              "      <td>85.180725</td>\n",
              "      <td>89.076118</td>\n",
              "      <td>84.483337</td>\n",
              "      <td>89.011368</td>\n",
              "      <td>89.011368</td>\n",
              "      <td>22259924</td>\n",
              "    </tr>\n",
              "  </tbody>\n",
              "</table>\n",
              "</div>"
            ],
            "text/plain": [
              "         Date       Open       High        Low      Close  Adj Close    Volume\n",
              "0  2004-12-08  84.856934  86.515717  84.049957  84.672623  84.672623  15140137\n",
              "1  2004-12-09  84.807121  86.426056  83.920448  86.391182  86.391182  15365378\n",
              "2  2004-12-10  86.391182  87.113480  85.325180  85.504509  85.504509   8666764\n",
              "3  2004-12-13  85.763535  86.266647  84.408615  84.906746  84.906746   9673323\n",
              "4  2004-12-14  85.180725  89.076118  84.483337  89.011368  89.011368  22259924"
            ]
          },
          "metadata": {},
          "execution_count": 4
        }
      ]
    },
    {
      "cell_type": "code",
      "metadata": {
        "colab": {
          "base_uri": "https://localhost:8080/",
          "height": 206
        },
        "id": "mvgeUNYQ9HLi",
        "outputId": "9d384e5a-f2a7-4d2e-a7d7-31390d1f23b1"
      },
      "source": [
        "data.tail(5)"
      ],
      "execution_count": 5,
      "outputs": [
        {
          "output_type": "execute_result",
          "data": {
            "text/html": [
              "<div>\n",
              "<style scoped>\n",
              "    .dataframe tbody tr th:only-of-type {\n",
              "        vertical-align: middle;\n",
              "    }\n",
              "\n",
              "    .dataframe tbody tr th {\n",
              "        vertical-align: top;\n",
              "    }\n",
              "\n",
              "    .dataframe thead th {\n",
              "        text-align: right;\n",
              "    }\n",
              "</style>\n",
              "<table border=\"1\" class=\"dataframe\">\n",
              "  <thead>\n",
              "    <tr style=\"text-align: right;\">\n",
              "      <th></th>\n",
              "      <th>Date</th>\n",
              "      <th>Open</th>\n",
              "      <th>High</th>\n",
              "      <th>Low</th>\n",
              "      <th>Close</th>\n",
              "      <th>Adj Close</th>\n",
              "      <th>Volume</th>\n",
              "    </tr>\n",
              "  </thead>\n",
              "  <tbody>\n",
              "    <tr>\n",
              "      <th>4224</th>\n",
              "      <td>2021-09-20</td>\n",
              "      <td>2780.003906</td>\n",
              "      <td>2787.250000</td>\n",
              "      <td>2741.060059</td>\n",
              "      <td>2780.340088</td>\n",
              "      <td>2780.340088</td>\n",
              "      <td>1745900</td>\n",
              "    </tr>\n",
              "    <tr>\n",
              "      <th>4225</th>\n",
              "      <td>2021-09-21</td>\n",
              "      <td>2802.340088</td>\n",
              "      <td>2816.231934</td>\n",
              "      <td>2778.110107</td>\n",
              "      <td>2792.929932</td>\n",
              "      <td>2792.929932</td>\n",
              "      <td>906500</td>\n",
              "    </tr>\n",
              "    <tr>\n",
              "      <th>4226</th>\n",
              "      <td>2021-09-22</td>\n",
              "      <td>2801.010010</td>\n",
              "      <td>2831.669922</td>\n",
              "      <td>2789.435059</td>\n",
              "      <td>2818.770020</td>\n",
              "      <td>2818.770020</td>\n",
              "      <td>1103400</td>\n",
              "    </tr>\n",
              "    <tr>\n",
              "      <th>4227</th>\n",
              "      <td>2021-09-23</td>\n",
              "      <td>2832.189941</td>\n",
              "      <td>2845.049072</td>\n",
              "      <td>2821.929932</td>\n",
              "      <td>2836.530029</td>\n",
              "      <td>2836.530029</td>\n",
              "      <td>863600</td>\n",
              "    </tr>\n",
              "    <tr>\n",
              "      <th>4228</th>\n",
              "      <td>2021-09-24</td>\n",
              "      <td>2818.919922</td>\n",
              "      <td>2858.070068</td>\n",
              "      <td>2817.010010</td>\n",
              "      <td>2852.659912</td>\n",
              "      <td>2852.659912</td>\n",
              "      <td>747100</td>\n",
              "    </tr>\n",
              "  </tbody>\n",
              "</table>\n",
              "</div>"
            ],
            "text/plain": [
              "            Date         Open         High  ...        Close    Adj Close   Volume\n",
              "4224  2021-09-20  2780.003906  2787.250000  ...  2780.340088  2780.340088  1745900\n",
              "4225  2021-09-21  2802.340088  2816.231934  ...  2792.929932  2792.929932   906500\n",
              "4226  2021-09-22  2801.010010  2831.669922  ...  2818.770020  2818.770020  1103400\n",
              "4227  2021-09-23  2832.189941  2845.049072  ...  2836.530029  2836.530029   863600\n",
              "4228  2021-09-24  2818.919922  2858.070068  ...  2852.659912  2852.659912   747100\n",
              "\n",
              "[5 rows x 7 columns]"
            ]
          },
          "metadata": {},
          "execution_count": 5
        }
      ]
    },
    {
      "cell_type": "code",
      "metadata": {
        "id": "WfrNttXK9cHW"
      },
      "source": [
        "data_traing=data[data['Date']<'2021-01-01'].copy()"
      ],
      "execution_count": 6,
      "outputs": []
    },
    {
      "cell_type": "code",
      "metadata": {
        "colab": {
          "base_uri": "https://localhost:8080/",
          "height": 423
        },
        "id": "s2Xkv31j9vmq",
        "outputId": "d4fd196d-41c1-4888-9652-0a480ba10a6c"
      },
      "source": [
        "data_traing"
      ],
      "execution_count": 7,
      "outputs": [
        {
          "output_type": "execute_result",
          "data": {
            "text/html": [
              "<div>\n",
              "<style scoped>\n",
              "    .dataframe tbody tr th:only-of-type {\n",
              "        vertical-align: middle;\n",
              "    }\n",
              "\n",
              "    .dataframe tbody tr th {\n",
              "        vertical-align: top;\n",
              "    }\n",
              "\n",
              "    .dataframe thead th {\n",
              "        text-align: right;\n",
              "    }\n",
              "</style>\n",
              "<table border=\"1\" class=\"dataframe\">\n",
              "  <thead>\n",
              "    <tr style=\"text-align: right;\">\n",
              "      <th></th>\n",
              "      <th>Date</th>\n",
              "      <th>Open</th>\n",
              "      <th>High</th>\n",
              "      <th>Low</th>\n",
              "      <th>Close</th>\n",
              "      <th>Adj Close</th>\n",
              "      <th>Volume</th>\n",
              "    </tr>\n",
              "  </thead>\n",
              "  <tbody>\n",
              "    <tr>\n",
              "      <th>0</th>\n",
              "      <td>2004-12-08</td>\n",
              "      <td>84.856934</td>\n",
              "      <td>86.515717</td>\n",
              "      <td>84.049957</td>\n",
              "      <td>84.672623</td>\n",
              "      <td>84.672623</td>\n",
              "      <td>15140137</td>\n",
              "    </tr>\n",
              "    <tr>\n",
              "      <th>1</th>\n",
              "      <td>2004-12-09</td>\n",
              "      <td>84.807121</td>\n",
              "      <td>86.426056</td>\n",
              "      <td>83.920448</td>\n",
              "      <td>86.391182</td>\n",
              "      <td>86.391182</td>\n",
              "      <td>15365378</td>\n",
              "    </tr>\n",
              "    <tr>\n",
              "      <th>2</th>\n",
              "      <td>2004-12-10</td>\n",
              "      <td>86.391182</td>\n",
              "      <td>87.113480</td>\n",
              "      <td>85.325180</td>\n",
              "      <td>85.504509</td>\n",
              "      <td>85.504509</td>\n",
              "      <td>8666764</td>\n",
              "    </tr>\n",
              "    <tr>\n",
              "      <th>3</th>\n",
              "      <td>2004-12-13</td>\n",
              "      <td>85.763535</td>\n",
              "      <td>86.266647</td>\n",
              "      <td>84.408615</td>\n",
              "      <td>84.906746</td>\n",
              "      <td>84.906746</td>\n",
              "      <td>9673323</td>\n",
              "    </tr>\n",
              "    <tr>\n",
              "      <th>4</th>\n",
              "      <td>2004-12-14</td>\n",
              "      <td>85.180725</td>\n",
              "      <td>89.076118</td>\n",
              "      <td>84.483337</td>\n",
              "      <td>89.011368</td>\n",
              "      <td>89.011368</td>\n",
              "      <td>22259924</td>\n",
              "    </tr>\n",
              "    <tr>\n",
              "      <th>...</th>\n",
              "      <td>...</td>\n",
              "      <td>...</td>\n",
              "      <td>...</td>\n",
              "      <td>...</td>\n",
              "      <td>...</td>\n",
              "      <td>...</td>\n",
              "      <td>...</td>\n",
              "    </tr>\n",
              "    <tr>\n",
              "      <th>4040</th>\n",
              "      <td>2020-12-24</td>\n",
              "      <td>1735.000000</td>\n",
              "      <td>1746.000000</td>\n",
              "      <td>1729.109985</td>\n",
              "      <td>1738.849976</td>\n",
              "      <td>1738.849976</td>\n",
              "      <td>346800</td>\n",
              "    </tr>\n",
              "    <tr>\n",
              "      <th>4041</th>\n",
              "      <td>2020-12-28</td>\n",
              "      <td>1751.635010</td>\n",
              "      <td>1790.728027</td>\n",
              "      <td>1746.334961</td>\n",
              "      <td>1776.089966</td>\n",
              "      <td>1776.089966</td>\n",
              "      <td>1393000</td>\n",
              "    </tr>\n",
              "    <tr>\n",
              "      <th>4042</th>\n",
              "      <td>2020-12-29</td>\n",
              "      <td>1787.790039</td>\n",
              "      <td>1792.439941</td>\n",
              "      <td>1756.089966</td>\n",
              "      <td>1758.719971</td>\n",
              "      <td>1758.719971</td>\n",
              "      <td>1299400</td>\n",
              "    </tr>\n",
              "    <tr>\n",
              "      <th>4043</th>\n",
              "      <td>2020-12-30</td>\n",
              "      <td>1762.010010</td>\n",
              "      <td>1765.094971</td>\n",
              "      <td>1725.599976</td>\n",
              "      <td>1739.520020</td>\n",
              "      <td>1739.520020</td>\n",
              "      <td>1306100</td>\n",
              "    </tr>\n",
              "    <tr>\n",
              "      <th>4044</th>\n",
              "      <td>2020-12-31</td>\n",
              "      <td>1735.420044</td>\n",
              "      <td>1758.930054</td>\n",
              "      <td>1735.420044</td>\n",
              "      <td>1751.880005</td>\n",
              "      <td>1751.880005</td>\n",
              "      <td>1011900</td>\n",
              "    </tr>\n",
              "  </tbody>\n",
              "</table>\n",
              "<p>4045 rows × 7 columns</p>\n",
              "</div>"
            ],
            "text/plain": [
              "            Date         Open         High  ...        Close    Adj Close    Volume\n",
              "0     2004-12-08    84.856934    86.515717  ...    84.672623    84.672623  15140137\n",
              "1     2004-12-09    84.807121    86.426056  ...    86.391182    86.391182  15365378\n",
              "2     2004-12-10    86.391182    87.113480  ...    85.504509    85.504509   8666764\n",
              "3     2004-12-13    85.763535    86.266647  ...    84.906746    84.906746   9673323\n",
              "4     2004-12-14    85.180725    89.076118  ...    89.011368    89.011368  22259924\n",
              "...          ...          ...          ...  ...          ...          ...       ...\n",
              "4040  2020-12-24  1735.000000  1746.000000  ...  1738.849976  1738.849976    346800\n",
              "4041  2020-12-28  1751.635010  1790.728027  ...  1776.089966  1776.089966   1393000\n",
              "4042  2020-12-29  1787.790039  1792.439941  ...  1758.719971  1758.719971   1299400\n",
              "4043  2020-12-30  1762.010010  1765.094971  ...  1739.520020  1739.520020   1306100\n",
              "4044  2020-12-31  1735.420044  1758.930054  ...  1751.880005  1751.880005   1011900\n",
              "\n",
              "[4045 rows x 7 columns]"
            ]
          },
          "metadata": {},
          "execution_count": 7
        }
      ]
    },
    {
      "cell_type": "code",
      "metadata": {
        "id": "RM6POC3m-K5E"
      },
      "source": [
        "data_test=data[data['Date']>='2021-01-01'].copy()"
      ],
      "execution_count": 8,
      "outputs": []
    },
    {
      "cell_type": "code",
      "metadata": {
        "colab": {
          "base_uri": "https://localhost:8080/",
          "height": 206
        },
        "id": "OD_0YhDD-hsL",
        "outputId": "141aa37d-2ada-4c43-cd5b-987eab3e1b59"
      },
      "source": [
        "data_test.head()"
      ],
      "execution_count": 9,
      "outputs": [
        {
          "output_type": "execute_result",
          "data": {
            "text/html": [
              "<div>\n",
              "<style scoped>\n",
              "    .dataframe tbody tr th:only-of-type {\n",
              "        vertical-align: middle;\n",
              "    }\n",
              "\n",
              "    .dataframe tbody tr th {\n",
              "        vertical-align: top;\n",
              "    }\n",
              "\n",
              "    .dataframe thead th {\n",
              "        text-align: right;\n",
              "    }\n",
              "</style>\n",
              "<table border=\"1\" class=\"dataframe\">\n",
              "  <thead>\n",
              "    <tr style=\"text-align: right;\">\n",
              "      <th></th>\n",
              "      <th>Date</th>\n",
              "      <th>Open</th>\n",
              "      <th>High</th>\n",
              "      <th>Low</th>\n",
              "      <th>Close</th>\n",
              "      <th>Adj Close</th>\n",
              "      <th>Volume</th>\n",
              "    </tr>\n",
              "  </thead>\n",
              "  <tbody>\n",
              "    <tr>\n",
              "      <th>4045</th>\n",
              "      <td>2021-01-04</td>\n",
              "      <td>1757.540039</td>\n",
              "      <td>1760.650024</td>\n",
              "      <td>1707.849976</td>\n",
              "      <td>1728.239990</td>\n",
              "      <td>1728.239990</td>\n",
              "      <td>1901900</td>\n",
              "    </tr>\n",
              "    <tr>\n",
              "      <th>4046</th>\n",
              "      <td>2021-01-05</td>\n",
              "      <td>1725.000000</td>\n",
              "      <td>1747.670044</td>\n",
              "      <td>1718.015015</td>\n",
              "      <td>1740.920044</td>\n",
              "      <td>1740.920044</td>\n",
              "      <td>1145300</td>\n",
              "    </tr>\n",
              "    <tr>\n",
              "      <th>4047</th>\n",
              "      <td>2021-01-06</td>\n",
              "      <td>1702.630005</td>\n",
              "      <td>1748.000000</td>\n",
              "      <td>1699.000000</td>\n",
              "      <td>1735.290039</td>\n",
              "      <td>1735.290039</td>\n",
              "      <td>2602100</td>\n",
              "    </tr>\n",
              "    <tr>\n",
              "      <th>4048</th>\n",
              "      <td>2021-01-07</td>\n",
              "      <td>1740.060059</td>\n",
              "      <td>1788.400024</td>\n",
              "      <td>1737.050049</td>\n",
              "      <td>1787.250000</td>\n",
              "      <td>1787.250000</td>\n",
              "      <td>2265000</td>\n",
              "    </tr>\n",
              "    <tr>\n",
              "      <th>4049</th>\n",
              "      <td>2021-01-08</td>\n",
              "      <td>1787.979980</td>\n",
              "      <td>1809.839966</td>\n",
              "      <td>1773.535034</td>\n",
              "      <td>1807.209961</td>\n",
              "      <td>1807.209961</td>\n",
              "      <td>2050600</td>\n",
              "    </tr>\n",
              "  </tbody>\n",
              "</table>\n",
              "</div>"
            ],
            "text/plain": [
              "            Date         Open         High  ...        Close    Adj Close   Volume\n",
              "4045  2021-01-04  1757.540039  1760.650024  ...  1728.239990  1728.239990  1901900\n",
              "4046  2021-01-05  1725.000000  1747.670044  ...  1740.920044  1740.920044  1145300\n",
              "4047  2021-01-06  1702.630005  1748.000000  ...  1735.290039  1735.290039  2602100\n",
              "4048  2021-01-07  1740.060059  1788.400024  ...  1787.250000  1787.250000  2265000\n",
              "4049  2021-01-08  1787.979980  1809.839966  ...  1807.209961  1807.209961  2050600\n",
              "\n",
              "[5 rows x 7 columns]"
            ]
          },
          "metadata": {},
          "execution_count": 9
        }
      ]
    },
    {
      "cell_type": "code",
      "metadata": {
        "colab": {
          "base_uri": "https://localhost:8080/",
          "height": 206
        },
        "id": "DL-MibMq86ir",
        "outputId": "06a0ea43-5164-486c-ce11-751d1cb476e4"
      },
      "source": [
        "data_test.tail()"
      ],
      "execution_count": 10,
      "outputs": [
        {
          "output_type": "execute_result",
          "data": {
            "text/html": [
              "<div>\n",
              "<style scoped>\n",
              "    .dataframe tbody tr th:only-of-type {\n",
              "        vertical-align: middle;\n",
              "    }\n",
              "\n",
              "    .dataframe tbody tr th {\n",
              "        vertical-align: top;\n",
              "    }\n",
              "\n",
              "    .dataframe thead th {\n",
              "        text-align: right;\n",
              "    }\n",
              "</style>\n",
              "<table border=\"1\" class=\"dataframe\">\n",
              "  <thead>\n",
              "    <tr style=\"text-align: right;\">\n",
              "      <th></th>\n",
              "      <th>Date</th>\n",
              "      <th>Open</th>\n",
              "      <th>High</th>\n",
              "      <th>Low</th>\n",
              "      <th>Close</th>\n",
              "      <th>Adj Close</th>\n",
              "      <th>Volume</th>\n",
              "    </tr>\n",
              "  </thead>\n",
              "  <tbody>\n",
              "    <tr>\n",
              "      <th>4224</th>\n",
              "      <td>2021-09-20</td>\n",
              "      <td>2780.003906</td>\n",
              "      <td>2787.250000</td>\n",
              "      <td>2741.060059</td>\n",
              "      <td>2780.340088</td>\n",
              "      <td>2780.340088</td>\n",
              "      <td>1745900</td>\n",
              "    </tr>\n",
              "    <tr>\n",
              "      <th>4225</th>\n",
              "      <td>2021-09-21</td>\n",
              "      <td>2802.340088</td>\n",
              "      <td>2816.231934</td>\n",
              "      <td>2778.110107</td>\n",
              "      <td>2792.929932</td>\n",
              "      <td>2792.929932</td>\n",
              "      <td>906500</td>\n",
              "    </tr>\n",
              "    <tr>\n",
              "      <th>4226</th>\n",
              "      <td>2021-09-22</td>\n",
              "      <td>2801.010010</td>\n",
              "      <td>2831.669922</td>\n",
              "      <td>2789.435059</td>\n",
              "      <td>2818.770020</td>\n",
              "      <td>2818.770020</td>\n",
              "      <td>1103400</td>\n",
              "    </tr>\n",
              "    <tr>\n",
              "      <th>4227</th>\n",
              "      <td>2021-09-23</td>\n",
              "      <td>2832.189941</td>\n",
              "      <td>2845.049072</td>\n",
              "      <td>2821.929932</td>\n",
              "      <td>2836.530029</td>\n",
              "      <td>2836.530029</td>\n",
              "      <td>863600</td>\n",
              "    </tr>\n",
              "    <tr>\n",
              "      <th>4228</th>\n",
              "      <td>2021-09-24</td>\n",
              "      <td>2818.919922</td>\n",
              "      <td>2858.070068</td>\n",
              "      <td>2817.010010</td>\n",
              "      <td>2852.659912</td>\n",
              "      <td>2852.659912</td>\n",
              "      <td>747100</td>\n",
              "    </tr>\n",
              "  </tbody>\n",
              "</table>\n",
              "</div>"
            ],
            "text/plain": [
              "            Date         Open         High  ...        Close    Adj Close   Volume\n",
              "4224  2021-09-20  2780.003906  2787.250000  ...  2780.340088  2780.340088  1745900\n",
              "4225  2021-09-21  2802.340088  2816.231934  ...  2792.929932  2792.929932   906500\n",
              "4226  2021-09-22  2801.010010  2831.669922  ...  2818.770020  2818.770020  1103400\n",
              "4227  2021-09-23  2832.189941  2845.049072  ...  2836.530029  2836.530029   863600\n",
              "4228  2021-09-24  2818.919922  2858.070068  ...  2852.659912  2852.659912   747100\n",
              "\n",
              "[5 rows x 7 columns]"
            ]
          },
          "metadata": {},
          "execution_count": 10
        }
      ]
    },
    {
      "cell_type": "code",
      "metadata": {
        "colab": {
          "base_uri": "https://localhost:8080/",
          "height": 206
        },
        "id": "klAwAduB-jcw",
        "outputId": "7e9c401f-6b9a-4272-ba10-1f7ae5dc8509"
      },
      "source": [
        "training_data=data_traing.drop(['Date','Adj Close'],axis=1)\n",
        "training_data.head()"
      ],
      "execution_count": 11,
      "outputs": [
        {
          "output_type": "execute_result",
          "data": {
            "text/html": [
              "<div>\n",
              "<style scoped>\n",
              "    .dataframe tbody tr th:only-of-type {\n",
              "        vertical-align: middle;\n",
              "    }\n",
              "\n",
              "    .dataframe tbody tr th {\n",
              "        vertical-align: top;\n",
              "    }\n",
              "\n",
              "    .dataframe thead th {\n",
              "        text-align: right;\n",
              "    }\n",
              "</style>\n",
              "<table border=\"1\" class=\"dataframe\">\n",
              "  <thead>\n",
              "    <tr style=\"text-align: right;\">\n",
              "      <th></th>\n",
              "      <th>Open</th>\n",
              "      <th>High</th>\n",
              "      <th>Low</th>\n",
              "      <th>Close</th>\n",
              "      <th>Volume</th>\n",
              "    </tr>\n",
              "  </thead>\n",
              "  <tbody>\n",
              "    <tr>\n",
              "      <th>0</th>\n",
              "      <td>84.856934</td>\n",
              "      <td>86.515717</td>\n",
              "      <td>84.049957</td>\n",
              "      <td>84.672623</td>\n",
              "      <td>15140137</td>\n",
              "    </tr>\n",
              "    <tr>\n",
              "      <th>1</th>\n",
              "      <td>84.807121</td>\n",
              "      <td>86.426056</td>\n",
              "      <td>83.920448</td>\n",
              "      <td>86.391182</td>\n",
              "      <td>15365378</td>\n",
              "    </tr>\n",
              "    <tr>\n",
              "      <th>2</th>\n",
              "      <td>86.391182</td>\n",
              "      <td>87.113480</td>\n",
              "      <td>85.325180</td>\n",
              "      <td>85.504509</td>\n",
              "      <td>8666764</td>\n",
              "    </tr>\n",
              "    <tr>\n",
              "      <th>3</th>\n",
              "      <td>85.763535</td>\n",
              "      <td>86.266647</td>\n",
              "      <td>84.408615</td>\n",
              "      <td>84.906746</td>\n",
              "      <td>9673323</td>\n",
              "    </tr>\n",
              "    <tr>\n",
              "      <th>4</th>\n",
              "      <td>85.180725</td>\n",
              "      <td>89.076118</td>\n",
              "      <td>84.483337</td>\n",
              "      <td>89.011368</td>\n",
              "      <td>22259924</td>\n",
              "    </tr>\n",
              "  </tbody>\n",
              "</table>\n",
              "</div>"
            ],
            "text/plain": [
              "        Open       High        Low      Close    Volume\n",
              "0  84.856934  86.515717  84.049957  84.672623  15140137\n",
              "1  84.807121  86.426056  83.920448  86.391182  15365378\n",
              "2  86.391182  87.113480  85.325180  85.504509   8666764\n",
              "3  85.763535  86.266647  84.408615  84.906746   9673323\n",
              "4  85.180725  89.076118  84.483337  89.011368  22259924"
            ]
          },
          "metadata": {},
          "execution_count": 11
        }
      ]
    },
    {
      "cell_type": "code",
      "metadata": {
        "id": "nkGDEGEw_7MK"
      },
      "source": [
        "scaler=MinMaxScaler()\n",
        "training_data=scaler.fit_transform(training_data)"
      ],
      "execution_count": 12,
      "outputs": []
    },
    {
      "cell_type": "code",
      "metadata": {
        "colab": {
          "base_uri": "https://localhost:8080/"
        },
        "id": "WfyFXyngAhvy",
        "outputId": "e6f1d566-7668-4aae-9c20-13831e8b662b"
      },
      "source": [
        "training_data"
      ],
      "execution_count": 13,
      "outputs": [
        {
          "output_type": "execute_result",
          "data": {
            "text/plain": [
              "array([[2.86328854e-05, 1.41442041e-04, 7.44848433e-05, 0.00000000e+00,\n",
              "        1.83345874e-01],\n",
              "       [0.00000000e+00, 9.05252911e-05, 0.00000000e+00, 9.85798130e-04,\n",
              "        1.86074953e-01],\n",
              "       [9.10530123e-04, 4.80900099e-04, 8.07907118e-04, 4.77185632e-04,\n",
              "        1.04912794e-01],\n",
              "       ...,\n",
              "       [9.78887332e-01, 9.68902848e-01, 9.61719143e-01, 9.60265400e-01,\n",
              "        1.56478852e-02],\n",
              "       [9.64068778e-01, 9.53374168e-01, 9.44183357e-01, 9.49251942e-01,\n",
              "        1.57290641e-02],\n",
              "       [9.48784667e-01, 9.49873231e-01, 9.49831198e-01, 9.56341865e-01,\n",
              "        1.21644600e-02]])"
            ]
          },
          "metadata": {},
          "execution_count": 13
        }
      ]
    },
    {
      "cell_type": "code",
      "metadata": {
        "id": "_FXTBmcBAkug"
      },
      "source": [
        "x_train=[]\n",
        "y_train=[]"
      ],
      "execution_count": 14,
      "outputs": []
    },
    {
      "cell_type": "code",
      "metadata": {
        "colab": {
          "base_uri": "https://localhost:8080/"
        },
        "id": "alVcB7dfBWHM",
        "outputId": "5a9d03af-4c77-44ca-e7f6-84597b44738f"
      },
      "source": [
        "training_data.shape[0]"
      ],
      "execution_count": 15,
      "outputs": [
        {
          "output_type": "execute_result",
          "data": {
            "text/plain": [
              "4045"
            ]
          },
          "metadata": {},
          "execution_count": 15
        }
      ]
    },
    {
      "cell_type": "code",
      "metadata": {
        "id": "NNMGUUf7A7vc"
      },
      "source": [
        "for i in range(60,training_data.shape[0]):\n",
        "  x_train.append(training_data[i-60:i])\n",
        "  y_train.append(training_data[i,0])"
      ],
      "execution_count": 16,
      "outputs": []
    },
    {
      "cell_type": "code",
      "metadata": {
        "id": "tlrfFesdBgJk"
      },
      "source": [
        "x_train,y_train=np.array(x_train),np.array(y_train)"
      ],
      "execution_count": 17,
      "outputs": []
    },
    {
      "cell_type": "code",
      "metadata": {
        "colab": {
          "base_uri": "https://localhost:8080/"
        },
        "id": "W24QA8_PCs9x",
        "outputId": "c068372c-8ee3-4f86-dbd6-1bf63c938c91"
      },
      "source": [
        "x_train.shape"
      ],
      "execution_count": 18,
      "outputs": [
        {
          "output_type": "execute_result",
          "data": {
            "text/plain": [
              "(3985, 60, 5)"
            ]
          },
          "metadata": {},
          "execution_count": 18
        }
      ]
    },
    {
      "cell_type": "code",
      "metadata": {
        "colab": {
          "base_uri": "https://localhost:8080/"
        },
        "id": "F7BXa1M7CwJn",
        "outputId": "7db51a59-705e-4085-acc9-467c6b09c4aa"
      },
      "source": [
        "y_train.shape"
      ],
      "execution_count": 19,
      "outputs": [
        {
          "output_type": "execute_result",
          "data": {
            "text/plain": [
              "(3985,)"
            ]
          },
          "metadata": {},
          "execution_count": 19
        }
      ]
    },
    {
      "cell_type": "markdown",
      "metadata": {
        "id": "jgToNMFmDR5V"
      },
      "source": [
        "### Building RNN "
      ]
    },
    {
      "cell_type": "code",
      "metadata": {
        "id": "DFxIP0ftDWUl"
      },
      "source": [
        "from tensorflow.keras import Sequential\n",
        "from tensorflow.keras.layers import Dense, LSTM, Dropout"
      ],
      "execution_count": 20,
      "outputs": []
    },
    {
      "cell_type": "code",
      "metadata": {
        "id": "wMgmvACUL6V_"
      },
      "source": [
        "regression=Sequential()\n",
        "regression.add(LSTM(units=60, activation='relu', return_sequences=True, input_shape=(x_train.shape[1],5)))\n",
        "regression.add(Dropout(0.2))\n",
        "\n",
        "regression.add(LSTM(units=60,activation='relu', return_sequences=True))\n",
        "regression.add(Dropout(0.2))\n",
        "\n",
        "\n",
        "regression.add(LSTM(units=80,activation='relu', return_sequences=True))\n",
        "regression.add(Dropout(0.2))\n",
        "\n",
        "\n",
        "regression.add(LSTM(units=120,activation='relu'))\n",
        "regression.add(Dropout(0.5))\n",
        "\n",
        "regression.add(Dense(units=1))"
      ],
      "execution_count": 21,
      "outputs": []
    },
    {
      "cell_type": "code",
      "metadata": {
        "colab": {
          "base_uri": "https://localhost:8080/"
        },
        "id": "0OwE1mygHQXi",
        "outputId": "cc288df5-30af-42d1-929b-ef6ac5c16aa1"
      },
      "source": [
        "regression.summary()"
      ],
      "execution_count": 22,
      "outputs": [
        {
          "output_type": "stream",
          "name": "stdout",
          "text": [
            "Model: \"sequential\"\n",
            "_________________________________________________________________\n",
            "Layer (type)                 Output Shape              Param #   \n",
            "=================================================================\n",
            "lstm (LSTM)                  (None, 60, 60)            15840     \n",
            "_________________________________________________________________\n",
            "dropout (Dropout)            (None, 60, 60)            0         \n",
            "_________________________________________________________________\n",
            "lstm_1 (LSTM)                (None, 60, 60)            29040     \n",
            "_________________________________________________________________\n",
            "dropout_1 (Dropout)          (None, 60, 60)            0         \n",
            "_________________________________________________________________\n",
            "lstm_2 (LSTM)                (None, 60, 80)            45120     \n",
            "_________________________________________________________________\n",
            "dropout_2 (Dropout)          (None, 60, 80)            0         \n",
            "_________________________________________________________________\n",
            "lstm_3 (LSTM)                (None, 120)               96480     \n",
            "_________________________________________________________________\n",
            "dropout_3 (Dropout)          (None, 120)               0         \n",
            "_________________________________________________________________\n",
            "dense (Dense)                (None, 1)                 121       \n",
            "=================================================================\n",
            "Total params: 186,601\n",
            "Trainable params: 186,601\n",
            "Non-trainable params: 0\n",
            "_________________________________________________________________\n"
          ]
        }
      ]
    },
    {
      "cell_type": "code",
      "metadata": {
        "id": "9_mHYJZEKb39"
      },
      "source": [
        "regression.compile(optimizer='adam',loss='mean_squared_error')"
      ],
      "execution_count": 23,
      "outputs": []
    },
    {
      "cell_type": "code",
      "metadata": {
        "colab": {
          "base_uri": "https://localhost:8080/"
        },
        "id": "C-ZQ0UjPQxk0",
        "outputId": "55467ee1-8929-4759-a0fa-1316b1063a1a"
      },
      "source": [
        "regression.fit(x_train,y_train,epochs=50,batch_size=32)"
      ],
      "execution_count": 24,
      "outputs": [
        {
          "output_type": "stream",
          "name": "stdout",
          "text": [
            "Epoch 1/50\n",
            "125/125 [==============================] - 25s 166ms/step - loss: 0.0117\n",
            "Epoch 2/50\n",
            "125/125 [==============================] - 21s 165ms/step - loss: 0.0037\n",
            "Epoch 3/50\n",
            "125/125 [==============================] - 21s 166ms/step - loss: 0.0035\n",
            "Epoch 4/50\n",
            "125/125 [==============================] - 21s 165ms/step - loss: 0.0033\n",
            "Epoch 5/50\n",
            "125/125 [==============================] - 21s 164ms/step - loss: 0.0026\n",
            "Epoch 6/50\n",
            "125/125 [==============================] - 21s 165ms/step - loss: 0.0025\n",
            "Epoch 7/50\n",
            "125/125 [==============================] - 21s 166ms/step - loss: 0.0024\n",
            "Epoch 8/50\n",
            "125/125 [==============================] - 20s 164ms/step - loss: 0.0023\n",
            "Epoch 9/50\n",
            "125/125 [==============================] - 21s 166ms/step - loss: 0.0019\n",
            "Epoch 10/50\n",
            "125/125 [==============================] - 21s 165ms/step - loss: 0.0021\n",
            "Epoch 11/50\n",
            "125/125 [==============================] - 21s 165ms/step - loss: 0.0020\n",
            "Epoch 12/50\n",
            "125/125 [==============================] - 21s 166ms/step - loss: 0.0021\n",
            "Epoch 13/50\n",
            "125/125 [==============================] - 21s 164ms/step - loss: 0.0018\n",
            "Epoch 14/50\n",
            "125/125 [==============================] - 20s 164ms/step - loss: 0.0018\n",
            "Epoch 15/50\n",
            "125/125 [==============================] - 21s 165ms/step - loss: 0.0018\n",
            "Epoch 16/50\n",
            "125/125 [==============================] - 21s 165ms/step - loss: 0.0016\n",
            "Epoch 17/50\n",
            "125/125 [==============================] - 21s 165ms/step - loss: 0.0017\n",
            "Epoch 18/50\n",
            "125/125 [==============================] - 21s 165ms/step - loss: 0.0014\n",
            "Epoch 19/50\n",
            "125/125 [==============================] - 21s 165ms/step - loss: 0.0016\n",
            "Epoch 20/50\n",
            "125/125 [==============================] - 21s 165ms/step - loss: 0.0016\n",
            "Epoch 21/50\n",
            "125/125 [==============================] - 21s 166ms/step - loss: 0.0017\n",
            "Epoch 22/50\n",
            "125/125 [==============================] - 20s 162ms/step - loss: 0.0016\n",
            "Epoch 23/50\n",
            "125/125 [==============================] - 20s 162ms/step - loss: 0.0015\n",
            "Epoch 24/50\n",
            "125/125 [==============================] - 20s 163ms/step - loss: 0.0017\n",
            "Epoch 25/50\n",
            "125/125 [==============================] - 21s 165ms/step - loss: 0.0015\n",
            "Epoch 26/50\n",
            "125/125 [==============================] - 21s 165ms/step - loss: 0.0016\n",
            "Epoch 27/50\n",
            "125/125 [==============================] - 20s 163ms/step - loss: 0.0016\n",
            "Epoch 28/50\n",
            "125/125 [==============================] - 20s 163ms/step - loss: 0.0015\n",
            "Epoch 29/50\n",
            "125/125 [==============================] - 20s 163ms/step - loss: 0.0015\n",
            "Epoch 30/50\n",
            "125/125 [==============================] - 21s 165ms/step - loss: 0.0014\n",
            "Epoch 31/50\n",
            "125/125 [==============================] - 21s 165ms/step - loss: 0.0014\n",
            "Epoch 32/50\n",
            "125/125 [==============================] - 21s 165ms/step - loss: 0.0015\n",
            "Epoch 33/50\n",
            "125/125 [==============================] - 21s 165ms/step - loss: 0.0014\n",
            "Epoch 34/50\n",
            "125/125 [==============================] - 20s 164ms/step - loss: 0.0014\n",
            "Epoch 35/50\n",
            "125/125 [==============================] - 20s 163ms/step - loss: 0.0015\n",
            "Epoch 36/50\n",
            "125/125 [==============================] - 21s 164ms/step - loss: 0.0015\n",
            "Epoch 37/50\n",
            "125/125 [==============================] - 20s 164ms/step - loss: 0.0014\n",
            "Epoch 38/50\n",
            "125/125 [==============================] - 21s 166ms/step - loss: 0.0014\n",
            "Epoch 39/50\n",
            "125/125 [==============================] - 21s 167ms/step - loss: 0.0016\n",
            "Epoch 40/50\n",
            "125/125 [==============================] - 21s 165ms/step - loss: 0.0015\n",
            "Epoch 41/50\n",
            "125/125 [==============================] - 21s 167ms/step - loss: 0.0014\n",
            "Epoch 42/50\n",
            "125/125 [==============================] - 21s 167ms/step - loss: 0.0015\n",
            "Epoch 43/50\n",
            "125/125 [==============================] - 21s 165ms/step - loss: 0.0013\n",
            "Epoch 44/50\n",
            "125/125 [==============================] - 21s 167ms/step - loss: 0.0014\n",
            "Epoch 45/50\n",
            "125/125 [==============================] - 21s 166ms/step - loss: 0.0015\n",
            "Epoch 46/50\n",
            "125/125 [==============================] - 21s 165ms/step - loss: 0.0015\n",
            "Epoch 47/50\n",
            "125/125 [==============================] - 21s 166ms/step - loss: 0.0015\n",
            "Epoch 48/50\n",
            "125/125 [==============================] - 21s 167ms/step - loss: 0.0015\n",
            "Epoch 49/50\n",
            "125/125 [==============================] - 21s 166ms/step - loss: 0.0014\n",
            "Epoch 50/50\n",
            "125/125 [==============================] - 21s 166ms/step - loss: 0.0015\n"
          ]
        },
        {
          "output_type": "execute_result",
          "data": {
            "text/plain": [
              "<keras.callbacks.History at 0x7f75488a4610>"
            ]
          },
          "metadata": {},
          "execution_count": 24
        }
      ]
    },
    {
      "cell_type": "markdown",
      "metadata": {
        "id": "vLVBpY7VC9hV"
      },
      "source": [
        "### prepare dataset for prediction"
      ]
    },
    {
      "cell_type": "code",
      "metadata": {
        "colab": {
          "base_uri": "https://localhost:8080/",
          "height": 206
        },
        "id": "VYwqo9ZXDB8n",
        "outputId": "5caa4ab1-3483-4f91-a360-2d45cf21a7d0"
      },
      "source": [
        "data_test.head()"
      ],
      "execution_count": 25,
      "outputs": [
        {
          "output_type": "execute_result",
          "data": {
            "text/html": [
              "<div>\n",
              "<style scoped>\n",
              "    .dataframe tbody tr th:only-of-type {\n",
              "        vertical-align: middle;\n",
              "    }\n",
              "\n",
              "    .dataframe tbody tr th {\n",
              "        vertical-align: top;\n",
              "    }\n",
              "\n",
              "    .dataframe thead th {\n",
              "        text-align: right;\n",
              "    }\n",
              "</style>\n",
              "<table border=\"1\" class=\"dataframe\">\n",
              "  <thead>\n",
              "    <tr style=\"text-align: right;\">\n",
              "      <th></th>\n",
              "      <th>Date</th>\n",
              "      <th>Open</th>\n",
              "      <th>High</th>\n",
              "      <th>Low</th>\n",
              "      <th>Close</th>\n",
              "      <th>Adj Close</th>\n",
              "      <th>Volume</th>\n",
              "    </tr>\n",
              "  </thead>\n",
              "  <tbody>\n",
              "    <tr>\n",
              "      <th>4045</th>\n",
              "      <td>2021-01-04</td>\n",
              "      <td>1757.540039</td>\n",
              "      <td>1760.650024</td>\n",
              "      <td>1707.849976</td>\n",
              "      <td>1728.239990</td>\n",
              "      <td>1728.239990</td>\n",
              "      <td>1901900</td>\n",
              "    </tr>\n",
              "    <tr>\n",
              "      <th>4046</th>\n",
              "      <td>2021-01-05</td>\n",
              "      <td>1725.000000</td>\n",
              "      <td>1747.670044</td>\n",
              "      <td>1718.015015</td>\n",
              "      <td>1740.920044</td>\n",
              "      <td>1740.920044</td>\n",
              "      <td>1145300</td>\n",
              "    </tr>\n",
              "    <tr>\n",
              "      <th>4047</th>\n",
              "      <td>2021-01-06</td>\n",
              "      <td>1702.630005</td>\n",
              "      <td>1748.000000</td>\n",
              "      <td>1699.000000</td>\n",
              "      <td>1735.290039</td>\n",
              "      <td>1735.290039</td>\n",
              "      <td>2602100</td>\n",
              "    </tr>\n",
              "    <tr>\n",
              "      <th>4048</th>\n",
              "      <td>2021-01-07</td>\n",
              "      <td>1740.060059</td>\n",
              "      <td>1788.400024</td>\n",
              "      <td>1737.050049</td>\n",
              "      <td>1787.250000</td>\n",
              "      <td>1787.250000</td>\n",
              "      <td>2265000</td>\n",
              "    </tr>\n",
              "    <tr>\n",
              "      <th>4049</th>\n",
              "      <td>2021-01-08</td>\n",
              "      <td>1787.979980</td>\n",
              "      <td>1809.839966</td>\n",
              "      <td>1773.535034</td>\n",
              "      <td>1807.209961</td>\n",
              "      <td>1807.209961</td>\n",
              "      <td>2050600</td>\n",
              "    </tr>\n",
              "  </tbody>\n",
              "</table>\n",
              "</div>"
            ],
            "text/plain": [
              "            Date         Open         High  ...        Close    Adj Close   Volume\n",
              "4045  2021-01-04  1757.540039  1760.650024  ...  1728.239990  1728.239990  1901900\n",
              "4046  2021-01-05  1725.000000  1747.670044  ...  1740.920044  1740.920044  1145300\n",
              "4047  2021-01-06  1702.630005  1748.000000  ...  1735.290039  1735.290039  2602100\n",
              "4048  2021-01-07  1740.060059  1788.400024  ...  1787.250000  1787.250000  2265000\n",
              "4049  2021-01-08  1787.979980  1809.839966  ...  1807.209961  1807.209961  2050600\n",
              "\n",
              "[5 rows x 7 columns]"
            ]
          },
          "metadata": {},
          "execution_count": 25
        }
      ]
    },
    {
      "cell_type": "code",
      "metadata": {
        "colab": {
          "base_uri": "https://localhost:8080/",
          "height": 1000
        },
        "id": "KbJqgJcIDNjV",
        "outputId": "1f0f0193-5404-4514-b908-a16408036e74"
      },
      "source": [
        "data_traing.tail(60)"
      ],
      "execution_count": 26,
      "outputs": [
        {
          "output_type": "execute_result",
          "data": {
            "text/html": [
              "<div>\n",
              "<style scoped>\n",
              "    .dataframe tbody tr th:only-of-type {\n",
              "        vertical-align: middle;\n",
              "    }\n",
              "\n",
              "    .dataframe tbody tr th {\n",
              "        vertical-align: top;\n",
              "    }\n",
              "\n",
              "    .dataframe thead th {\n",
              "        text-align: right;\n",
              "    }\n",
              "</style>\n",
              "<table border=\"1\" class=\"dataframe\">\n",
              "  <thead>\n",
              "    <tr style=\"text-align: right;\">\n",
              "      <th></th>\n",
              "      <th>Date</th>\n",
              "      <th>Open</th>\n",
              "      <th>High</th>\n",
              "      <th>Low</th>\n",
              "      <th>Close</th>\n",
              "      <th>Adj Close</th>\n",
              "      <th>Volume</th>\n",
              "    </tr>\n",
              "  </thead>\n",
              "  <tbody>\n",
              "    <tr>\n",
              "      <th>3985</th>\n",
              "      <td>2020-10-07</td>\n",
              "      <td>1464.290039</td>\n",
              "      <td>1468.959961</td>\n",
              "      <td>1436.000000</td>\n",
              "      <td>1460.290039</td>\n",
              "      <td>1460.290039</td>\n",
              "      <td>1746200</td>\n",
              "    </tr>\n",
              "    <tr>\n",
              "      <th>3986</th>\n",
              "      <td>2020-10-08</td>\n",
              "      <td>1465.089966</td>\n",
              "      <td>1490.000000</td>\n",
              "      <td>1465.089966</td>\n",
              "      <td>1485.930054</td>\n",
              "      <td>1485.930054</td>\n",
              "      <td>1187800</td>\n",
              "    </tr>\n",
              "    <tr>\n",
              "      <th>3987</th>\n",
              "      <td>2020-10-09</td>\n",
              "      <td>1494.699951</td>\n",
              "      <td>1516.520020</td>\n",
              "      <td>1489.449951</td>\n",
              "      <td>1515.219971</td>\n",
              "      <td>1515.219971</td>\n",
              "      <td>1435300</td>\n",
              "    </tr>\n",
              "    <tr>\n",
              "      <th>3988</th>\n",
              "      <td>2020-10-12</td>\n",
              "      <td>1543.000000</td>\n",
              "      <td>1593.859985</td>\n",
              "      <td>1532.569946</td>\n",
              "      <td>1569.150024</td>\n",
              "      <td>1569.150024</td>\n",
              "      <td>2482600</td>\n",
              "    </tr>\n",
              "    <tr>\n",
              "      <th>3989</th>\n",
              "      <td>2020-10-13</td>\n",
              "      <td>1583.729980</td>\n",
              "      <td>1590.000000</td>\n",
              "      <td>1563.199951</td>\n",
              "      <td>1571.680054</td>\n",
              "      <td>1571.680054</td>\n",
              "      <td>1601000</td>\n",
              "    </tr>\n",
              "    <tr>\n",
              "      <th>3990</th>\n",
              "      <td>2020-10-14</td>\n",
              "      <td>1578.589966</td>\n",
              "      <td>1587.683960</td>\n",
              "      <td>1550.530029</td>\n",
              "      <td>1568.079956</td>\n",
              "      <td>1568.079956</td>\n",
              "      <td>1929300</td>\n",
              "    </tr>\n",
              "    <tr>\n",
              "      <th>3991</th>\n",
              "      <td>2020-10-15</td>\n",
              "      <td>1547.150024</td>\n",
              "      <td>1575.104980</td>\n",
              "      <td>1545.030029</td>\n",
              "      <td>1559.130005</td>\n",
              "      <td>1559.130005</td>\n",
              "      <td>1540000</td>\n",
              "    </tr>\n",
              "    <tr>\n",
              "      <th>3992</th>\n",
              "      <td>2020-10-16</td>\n",
              "      <td>1565.849976</td>\n",
              "      <td>1581.130005</td>\n",
              "      <td>1563.000000</td>\n",
              "      <td>1573.010010</td>\n",
              "      <td>1573.010010</td>\n",
              "      <td>1434700</td>\n",
              "    </tr>\n",
              "    <tr>\n",
              "      <th>3993</th>\n",
              "      <td>2020-10-19</td>\n",
              "      <td>1580.459961</td>\n",
              "      <td>1588.150024</td>\n",
              "      <td>1528.000000</td>\n",
              "      <td>1534.609985</td>\n",
              "      <td>1534.609985</td>\n",
              "      <td>1607100</td>\n",
              "    </tr>\n",
              "    <tr>\n",
              "      <th>3994</th>\n",
              "      <td>2020-10-20</td>\n",
              "      <td>1527.050049</td>\n",
              "      <td>1577.500000</td>\n",
              "      <td>1525.670044</td>\n",
              "      <td>1555.930054</td>\n",
              "      <td>1555.930054</td>\n",
              "      <td>2241700</td>\n",
              "    </tr>\n",
              "    <tr>\n",
              "      <th>3995</th>\n",
              "      <td>2020-10-21</td>\n",
              "      <td>1573.329956</td>\n",
              "      <td>1618.729980</td>\n",
              "      <td>1571.630005</td>\n",
              "      <td>1593.310059</td>\n",
              "      <td>1593.310059</td>\n",
              "      <td>2568300</td>\n",
              "    </tr>\n",
              "    <tr>\n",
              "      <th>3996</th>\n",
              "      <td>2020-10-22</td>\n",
              "      <td>1593.050049</td>\n",
              "      <td>1621.989990</td>\n",
              "      <td>1585.000000</td>\n",
              "      <td>1615.329956</td>\n",
              "      <td>1615.329956</td>\n",
              "      <td>1433600</td>\n",
              "    </tr>\n",
              "    <tr>\n",
              "      <th>3997</th>\n",
              "      <td>2020-10-23</td>\n",
              "      <td>1626.069946</td>\n",
              "      <td>1642.359985</td>\n",
              "      <td>1620.510010</td>\n",
              "      <td>1641.000000</td>\n",
              "      <td>1641.000000</td>\n",
              "      <td>1375800</td>\n",
              "    </tr>\n",
              "    <tr>\n",
              "      <th>3998</th>\n",
              "      <td>2020-10-26</td>\n",
              "      <td>1625.010010</td>\n",
              "      <td>1638.239990</td>\n",
              "      <td>1576.500000</td>\n",
              "      <td>1590.449951</td>\n",
              "      <td>1590.449951</td>\n",
              "      <td>1853300</td>\n",
              "    </tr>\n",
              "    <tr>\n",
              "      <th>3999</th>\n",
              "      <td>2020-10-27</td>\n",
              "      <td>1595.670044</td>\n",
              "      <td>1606.844971</td>\n",
              "      <td>1582.780029</td>\n",
              "      <td>1604.260010</td>\n",
              "      <td>1604.260010</td>\n",
              "      <td>1229000</td>\n",
              "    </tr>\n",
              "    <tr>\n",
              "      <th>4000</th>\n",
              "      <td>2020-10-28</td>\n",
              "      <td>1559.739990</td>\n",
              "      <td>1561.349976</td>\n",
              "      <td>1514.619995</td>\n",
              "      <td>1516.619995</td>\n",
              "      <td>1516.619995</td>\n",
              "      <td>1834000</td>\n",
              "    </tr>\n",
              "    <tr>\n",
              "      <th>4001</th>\n",
              "      <td>2020-10-29</td>\n",
              "      <td>1522.359985</td>\n",
              "      <td>1593.709961</td>\n",
              "      <td>1522.239990</td>\n",
              "      <td>1567.239990</td>\n",
              "      <td>1567.239990</td>\n",
              "      <td>2003100</td>\n",
              "    </tr>\n",
              "    <tr>\n",
              "      <th>4002</th>\n",
              "      <td>2020-10-30</td>\n",
              "      <td>1672.109985</td>\n",
              "      <td>1687.000000</td>\n",
              "      <td>1604.459961</td>\n",
              "      <td>1621.010010</td>\n",
              "      <td>1621.010010</td>\n",
              "      <td>4329100</td>\n",
              "    </tr>\n",
              "    <tr>\n",
              "      <th>4003</th>\n",
              "      <td>2020-11-02</td>\n",
              "      <td>1628.160034</td>\n",
              "      <td>1660.770020</td>\n",
              "      <td>1616.030029</td>\n",
              "      <td>1626.030029</td>\n",
              "      <td>1626.030029</td>\n",
              "      <td>2535400</td>\n",
              "    </tr>\n",
              "    <tr>\n",
              "      <th>4004</th>\n",
              "      <td>2020-11-03</td>\n",
              "      <td>1631.780029</td>\n",
              "      <td>1661.699951</td>\n",
              "      <td>1616.619995</td>\n",
              "      <td>1650.209961</td>\n",
              "      <td>1650.209961</td>\n",
              "      <td>1661700</td>\n",
              "    </tr>\n",
              "    <tr>\n",
              "      <th>4005</th>\n",
              "      <td>2020-11-04</td>\n",
              "      <td>1710.280029</td>\n",
              "      <td>1771.364990</td>\n",
              "      <td>1706.030029</td>\n",
              "      <td>1749.130005</td>\n",
              "      <td>1749.130005</td>\n",
              "      <td>3570900</td>\n",
              "    </tr>\n",
              "    <tr>\n",
              "      <th>4006</th>\n",
              "      <td>2020-11-05</td>\n",
              "      <td>1781.000000</td>\n",
              "      <td>1793.640015</td>\n",
              "      <td>1750.510010</td>\n",
              "      <td>1763.369995</td>\n",
              "      <td>1763.369995</td>\n",
              "      <td>2065800</td>\n",
              "    </tr>\n",
              "    <tr>\n",
              "      <th>4007</th>\n",
              "      <td>2020-11-06</td>\n",
              "      <td>1753.949951</td>\n",
              "      <td>1772.430054</td>\n",
              "      <td>1740.349976</td>\n",
              "      <td>1761.750000</td>\n",
              "      <td>1761.750000</td>\n",
              "      <td>1660900</td>\n",
              "    </tr>\n",
              "    <tr>\n",
              "      <th>4008</th>\n",
              "      <td>2020-11-09</td>\n",
              "      <td>1790.900024</td>\n",
              "      <td>1818.060059</td>\n",
              "      <td>1760.020020</td>\n",
              "      <td>1763.000000</td>\n",
              "      <td>1763.000000</td>\n",
              "      <td>2268300</td>\n",
              "    </tr>\n",
              "    <tr>\n",
              "      <th>4009</th>\n",
              "      <td>2020-11-10</td>\n",
              "      <td>1731.089966</td>\n",
              "      <td>1763.000000</td>\n",
              "      <td>1717.300049</td>\n",
              "      <td>1740.390015</td>\n",
              "      <td>1740.390015</td>\n",
              "      <td>2636100</td>\n",
              "    </tr>\n",
              "    <tr>\n",
              "      <th>4010</th>\n",
              "      <td>2020-11-11</td>\n",
              "      <td>1750.000000</td>\n",
              "      <td>1764.219971</td>\n",
              "      <td>1747.364990</td>\n",
              "      <td>1752.709961</td>\n",
              "      <td>1752.709961</td>\n",
              "      <td>1264000</td>\n",
              "    </tr>\n",
              "    <tr>\n",
              "      <th>4011</th>\n",
              "      <td>2020-11-12</td>\n",
              "      <td>1747.630005</td>\n",
              "      <td>1768.270020</td>\n",
              "      <td>1745.599976</td>\n",
              "      <td>1749.839966</td>\n",
              "      <td>1749.839966</td>\n",
              "      <td>1247500</td>\n",
              "    </tr>\n",
              "    <tr>\n",
              "      <th>4012</th>\n",
              "      <td>2020-11-13</td>\n",
              "      <td>1757.630005</td>\n",
              "      <td>1781.040039</td>\n",
              "      <td>1744.550049</td>\n",
              "      <td>1777.020020</td>\n",
              "      <td>1777.020020</td>\n",
              "      <td>1499900</td>\n",
              "    </tr>\n",
              "    <tr>\n",
              "      <th>4013</th>\n",
              "      <td>2020-11-16</td>\n",
              "      <td>1771.699951</td>\n",
              "      <td>1799.069946</td>\n",
              "      <td>1767.689941</td>\n",
              "      <td>1781.380005</td>\n",
              "      <td>1781.380005</td>\n",
              "      <td>1246800</td>\n",
              "    </tr>\n",
              "    <tr>\n",
              "      <th>4014</th>\n",
              "      <td>2020-11-17</td>\n",
              "      <td>1776.939941</td>\n",
              "      <td>1785.000000</td>\n",
              "      <td>1767.000000</td>\n",
              "      <td>1770.150024</td>\n",
              "      <td>1770.150024</td>\n",
              "      <td>1147100</td>\n",
              "    </tr>\n",
              "    <tr>\n",
              "      <th>4015</th>\n",
              "      <td>2020-11-18</td>\n",
              "      <td>1765.229980</td>\n",
              "      <td>1773.469971</td>\n",
              "      <td>1746.140015</td>\n",
              "      <td>1746.780029</td>\n",
              "      <td>1746.780029</td>\n",
              "      <td>1173500</td>\n",
              "    </tr>\n",
              "    <tr>\n",
              "      <th>4016</th>\n",
              "      <td>2020-11-19</td>\n",
              "      <td>1738.380005</td>\n",
              "      <td>1769.589966</td>\n",
              "      <td>1737.005005</td>\n",
              "      <td>1763.920044</td>\n",
              "      <td>1763.920044</td>\n",
              "      <td>1249900</td>\n",
              "    </tr>\n",
              "    <tr>\n",
              "      <th>4017</th>\n",
              "      <td>2020-11-20</td>\n",
              "      <td>1765.209961</td>\n",
              "      <td>1774.000000</td>\n",
              "      <td>1741.859985</td>\n",
              "      <td>1742.189941</td>\n",
              "      <td>1742.189941</td>\n",
              "      <td>2313500</td>\n",
              "    </tr>\n",
              "    <tr>\n",
              "      <th>4018</th>\n",
              "      <td>2020-11-23</td>\n",
              "      <td>1749.599976</td>\n",
              "      <td>1753.900024</td>\n",
              "      <td>1717.719971</td>\n",
              "      <td>1734.859985</td>\n",
              "      <td>1734.859985</td>\n",
              "      <td>2161600</td>\n",
              "    </tr>\n",
              "    <tr>\n",
              "      <th>4019</th>\n",
              "      <td>2020-11-24</td>\n",
              "      <td>1730.500000</td>\n",
              "      <td>1771.599976</td>\n",
              "      <td>1727.689941</td>\n",
              "      <td>1768.880005</td>\n",
              "      <td>1768.880005</td>\n",
              "      <td>1578000</td>\n",
              "    </tr>\n",
              "    <tr>\n",
              "      <th>4020</th>\n",
              "      <td>2020-11-25</td>\n",
              "      <td>1772.890015</td>\n",
              "      <td>1778.540039</td>\n",
              "      <td>1756.540039</td>\n",
              "      <td>1771.430054</td>\n",
              "      <td>1771.430054</td>\n",
              "      <td>1045800</td>\n",
              "    </tr>\n",
              "    <tr>\n",
              "      <th>4021</th>\n",
              "      <td>2020-11-27</td>\n",
              "      <td>1773.089966</td>\n",
              "      <td>1804.000000</td>\n",
              "      <td>1772.439941</td>\n",
              "      <td>1793.189941</td>\n",
              "      <td>1793.189941</td>\n",
              "      <td>884900</td>\n",
              "    </tr>\n",
              "    <tr>\n",
              "      <th>4022</th>\n",
              "      <td>2020-11-30</td>\n",
              "      <td>1781.183960</td>\n",
              "      <td>1788.064941</td>\n",
              "      <td>1755.000000</td>\n",
              "      <td>1760.739990</td>\n",
              "      <td>1760.739990</td>\n",
              "      <td>1823800</td>\n",
              "    </tr>\n",
              "    <tr>\n",
              "      <th>4023</th>\n",
              "      <td>2020-12-01</td>\n",
              "      <td>1774.369995</td>\n",
              "      <td>1824.829956</td>\n",
              "      <td>1769.369995</td>\n",
              "      <td>1798.099976</td>\n",
              "      <td>1798.099976</td>\n",
              "      <td>1736900</td>\n",
              "    </tr>\n",
              "    <tr>\n",
              "      <th>4024</th>\n",
              "      <td>2020-12-02</td>\n",
              "      <td>1798.099976</td>\n",
              "      <td>1835.650024</td>\n",
              "      <td>1789.473022</td>\n",
              "      <td>1827.949951</td>\n",
              "      <td>1827.949951</td>\n",
              "      <td>1222000</td>\n",
              "    </tr>\n",
              "    <tr>\n",
              "      <th>4025</th>\n",
              "      <td>2020-12-03</td>\n",
              "      <td>1824.010010</td>\n",
              "      <td>1847.199951</td>\n",
              "      <td>1822.650024</td>\n",
              "      <td>1826.770020</td>\n",
              "      <td>1826.770020</td>\n",
              "      <td>1227300</td>\n",
              "    </tr>\n",
              "    <tr>\n",
              "      <th>4026</th>\n",
              "      <td>2020-12-04</td>\n",
              "      <td>1824.520020</td>\n",
              "      <td>1833.160034</td>\n",
              "      <td>1816.989990</td>\n",
              "      <td>1827.989990</td>\n",
              "      <td>1827.989990</td>\n",
              "      <td>1378200</td>\n",
              "    </tr>\n",
              "    <tr>\n",
              "      <th>4027</th>\n",
              "      <td>2020-12-07</td>\n",
              "      <td>1819.000000</td>\n",
              "      <td>1832.369995</td>\n",
              "      <td>1805.780029</td>\n",
              "      <td>1819.479980</td>\n",
              "      <td>1819.479980</td>\n",
              "      <td>1320900</td>\n",
              "    </tr>\n",
              "    <tr>\n",
              "      <th>4028</th>\n",
              "      <td>2020-12-08</td>\n",
              "      <td>1810.099976</td>\n",
              "      <td>1821.900024</td>\n",
              "      <td>1796.204956</td>\n",
              "      <td>1818.550049</td>\n",
              "      <td>1818.550049</td>\n",
              "      <td>1096300</td>\n",
              "    </tr>\n",
              "    <tr>\n",
              "      <th>4029</th>\n",
              "      <td>2020-12-09</td>\n",
              "      <td>1812.010010</td>\n",
              "      <td>1834.270020</td>\n",
              "      <td>1767.810059</td>\n",
              "      <td>1784.130005</td>\n",
              "      <td>1784.130005</td>\n",
              "      <td>1507600</td>\n",
              "    </tr>\n",
              "    <tr>\n",
              "      <th>4030</th>\n",
              "      <td>2020-12-10</td>\n",
              "      <td>1769.800049</td>\n",
              "      <td>1781.310059</td>\n",
              "      <td>1740.319946</td>\n",
              "      <td>1775.329956</td>\n",
              "      <td>1775.329956</td>\n",
              "      <td>1362800</td>\n",
              "    </tr>\n",
              "    <tr>\n",
              "      <th>4031</th>\n",
              "      <td>2020-12-11</td>\n",
              "      <td>1763.060059</td>\n",
              "      <td>1784.449951</td>\n",
              "      <td>1760.000000</td>\n",
              "      <td>1781.770020</td>\n",
              "      <td>1781.770020</td>\n",
              "      <td>1220700</td>\n",
              "    </tr>\n",
              "    <tr>\n",
              "      <th>4032</th>\n",
              "      <td>2020-12-14</td>\n",
              "      <td>1775.000000</td>\n",
              "      <td>1797.390015</td>\n",
              "      <td>1757.214966</td>\n",
              "      <td>1760.060059</td>\n",
              "      <td>1760.060059</td>\n",
              "      <td>1600200</td>\n",
              "    </tr>\n",
              "    <tr>\n",
              "      <th>4033</th>\n",
              "      <td>2020-12-15</td>\n",
              "      <td>1764.420044</td>\n",
              "      <td>1771.420044</td>\n",
              "      <td>1749.949951</td>\n",
              "      <td>1767.770020</td>\n",
              "      <td>1767.770020</td>\n",
              "      <td>1482300</td>\n",
              "    </tr>\n",
              "    <tr>\n",
              "      <th>4034</th>\n",
              "      <td>2020-12-16</td>\n",
              "      <td>1772.880005</td>\n",
              "      <td>1773.000000</td>\n",
              "      <td>1756.079956</td>\n",
              "      <td>1763.000000</td>\n",
              "      <td>1763.000000</td>\n",
              "      <td>1513500</td>\n",
              "    </tr>\n",
              "    <tr>\n",
              "      <th>4035</th>\n",
              "      <td>2020-12-17</td>\n",
              "      <td>1768.510010</td>\n",
              "      <td>1771.784058</td>\n",
              "      <td>1738.660034</td>\n",
              "      <td>1747.900024</td>\n",
              "      <td>1747.900024</td>\n",
              "      <td>1624700</td>\n",
              "    </tr>\n",
              "    <tr>\n",
              "      <th>4036</th>\n",
              "      <td>2020-12-18</td>\n",
              "      <td>1754.180054</td>\n",
              "      <td>1755.109985</td>\n",
              "      <td>1720.219971</td>\n",
              "      <td>1731.010010</td>\n",
              "      <td>1731.010010</td>\n",
              "      <td>4016400</td>\n",
              "    </tr>\n",
              "    <tr>\n",
              "      <th>4037</th>\n",
              "      <td>2020-12-21</td>\n",
              "      <td>1713.510010</td>\n",
              "      <td>1740.849976</td>\n",
              "      <td>1699.000000</td>\n",
              "      <td>1739.369995</td>\n",
              "      <td>1739.369995</td>\n",
              "      <td>1828400</td>\n",
              "    </tr>\n",
              "    <tr>\n",
              "      <th>4038</th>\n",
              "      <td>2020-12-22</td>\n",
              "      <td>1734.430054</td>\n",
              "      <td>1737.405029</td>\n",
              "      <td>1712.574951</td>\n",
              "      <td>1723.500000</td>\n",
              "      <td>1723.500000</td>\n",
              "      <td>936700</td>\n",
              "    </tr>\n",
              "    <tr>\n",
              "      <th>4039</th>\n",
              "      <td>2020-12-23</td>\n",
              "      <td>1728.109985</td>\n",
              "      <td>1747.989990</td>\n",
              "      <td>1725.040039</td>\n",
              "      <td>1732.380005</td>\n",
              "      <td>1732.380005</td>\n",
              "      <td>1033800</td>\n",
              "    </tr>\n",
              "    <tr>\n",
              "      <th>4040</th>\n",
              "      <td>2020-12-24</td>\n",
              "      <td>1735.000000</td>\n",
              "      <td>1746.000000</td>\n",
              "      <td>1729.109985</td>\n",
              "      <td>1738.849976</td>\n",
              "      <td>1738.849976</td>\n",
              "      <td>346800</td>\n",
              "    </tr>\n",
              "    <tr>\n",
              "      <th>4041</th>\n",
              "      <td>2020-12-28</td>\n",
              "      <td>1751.635010</td>\n",
              "      <td>1790.728027</td>\n",
              "      <td>1746.334961</td>\n",
              "      <td>1776.089966</td>\n",
              "      <td>1776.089966</td>\n",
              "      <td>1393000</td>\n",
              "    </tr>\n",
              "    <tr>\n",
              "      <th>4042</th>\n",
              "      <td>2020-12-29</td>\n",
              "      <td>1787.790039</td>\n",
              "      <td>1792.439941</td>\n",
              "      <td>1756.089966</td>\n",
              "      <td>1758.719971</td>\n",
              "      <td>1758.719971</td>\n",
              "      <td>1299400</td>\n",
              "    </tr>\n",
              "    <tr>\n",
              "      <th>4043</th>\n",
              "      <td>2020-12-30</td>\n",
              "      <td>1762.010010</td>\n",
              "      <td>1765.094971</td>\n",
              "      <td>1725.599976</td>\n",
              "      <td>1739.520020</td>\n",
              "      <td>1739.520020</td>\n",
              "      <td>1306100</td>\n",
              "    </tr>\n",
              "    <tr>\n",
              "      <th>4044</th>\n",
              "      <td>2020-12-31</td>\n",
              "      <td>1735.420044</td>\n",
              "      <td>1758.930054</td>\n",
              "      <td>1735.420044</td>\n",
              "      <td>1751.880005</td>\n",
              "      <td>1751.880005</td>\n",
              "      <td>1011900</td>\n",
              "    </tr>\n",
              "  </tbody>\n",
              "</table>\n",
              "</div>"
            ],
            "text/plain": [
              "            Date         Open         High  ...        Close    Adj Close   Volume\n",
              "3985  2020-10-07  1464.290039  1468.959961  ...  1460.290039  1460.290039  1746200\n",
              "3986  2020-10-08  1465.089966  1490.000000  ...  1485.930054  1485.930054  1187800\n",
              "3987  2020-10-09  1494.699951  1516.520020  ...  1515.219971  1515.219971  1435300\n",
              "3988  2020-10-12  1543.000000  1593.859985  ...  1569.150024  1569.150024  2482600\n",
              "3989  2020-10-13  1583.729980  1590.000000  ...  1571.680054  1571.680054  1601000\n",
              "3990  2020-10-14  1578.589966  1587.683960  ...  1568.079956  1568.079956  1929300\n",
              "3991  2020-10-15  1547.150024  1575.104980  ...  1559.130005  1559.130005  1540000\n",
              "3992  2020-10-16  1565.849976  1581.130005  ...  1573.010010  1573.010010  1434700\n",
              "3993  2020-10-19  1580.459961  1588.150024  ...  1534.609985  1534.609985  1607100\n",
              "3994  2020-10-20  1527.050049  1577.500000  ...  1555.930054  1555.930054  2241700\n",
              "3995  2020-10-21  1573.329956  1618.729980  ...  1593.310059  1593.310059  2568300\n",
              "3996  2020-10-22  1593.050049  1621.989990  ...  1615.329956  1615.329956  1433600\n",
              "3997  2020-10-23  1626.069946  1642.359985  ...  1641.000000  1641.000000  1375800\n",
              "3998  2020-10-26  1625.010010  1638.239990  ...  1590.449951  1590.449951  1853300\n",
              "3999  2020-10-27  1595.670044  1606.844971  ...  1604.260010  1604.260010  1229000\n",
              "4000  2020-10-28  1559.739990  1561.349976  ...  1516.619995  1516.619995  1834000\n",
              "4001  2020-10-29  1522.359985  1593.709961  ...  1567.239990  1567.239990  2003100\n",
              "4002  2020-10-30  1672.109985  1687.000000  ...  1621.010010  1621.010010  4329100\n",
              "4003  2020-11-02  1628.160034  1660.770020  ...  1626.030029  1626.030029  2535400\n",
              "4004  2020-11-03  1631.780029  1661.699951  ...  1650.209961  1650.209961  1661700\n",
              "4005  2020-11-04  1710.280029  1771.364990  ...  1749.130005  1749.130005  3570900\n",
              "4006  2020-11-05  1781.000000  1793.640015  ...  1763.369995  1763.369995  2065800\n",
              "4007  2020-11-06  1753.949951  1772.430054  ...  1761.750000  1761.750000  1660900\n",
              "4008  2020-11-09  1790.900024  1818.060059  ...  1763.000000  1763.000000  2268300\n",
              "4009  2020-11-10  1731.089966  1763.000000  ...  1740.390015  1740.390015  2636100\n",
              "4010  2020-11-11  1750.000000  1764.219971  ...  1752.709961  1752.709961  1264000\n",
              "4011  2020-11-12  1747.630005  1768.270020  ...  1749.839966  1749.839966  1247500\n",
              "4012  2020-11-13  1757.630005  1781.040039  ...  1777.020020  1777.020020  1499900\n",
              "4013  2020-11-16  1771.699951  1799.069946  ...  1781.380005  1781.380005  1246800\n",
              "4014  2020-11-17  1776.939941  1785.000000  ...  1770.150024  1770.150024  1147100\n",
              "4015  2020-11-18  1765.229980  1773.469971  ...  1746.780029  1746.780029  1173500\n",
              "4016  2020-11-19  1738.380005  1769.589966  ...  1763.920044  1763.920044  1249900\n",
              "4017  2020-11-20  1765.209961  1774.000000  ...  1742.189941  1742.189941  2313500\n",
              "4018  2020-11-23  1749.599976  1753.900024  ...  1734.859985  1734.859985  2161600\n",
              "4019  2020-11-24  1730.500000  1771.599976  ...  1768.880005  1768.880005  1578000\n",
              "4020  2020-11-25  1772.890015  1778.540039  ...  1771.430054  1771.430054  1045800\n",
              "4021  2020-11-27  1773.089966  1804.000000  ...  1793.189941  1793.189941   884900\n",
              "4022  2020-11-30  1781.183960  1788.064941  ...  1760.739990  1760.739990  1823800\n",
              "4023  2020-12-01  1774.369995  1824.829956  ...  1798.099976  1798.099976  1736900\n",
              "4024  2020-12-02  1798.099976  1835.650024  ...  1827.949951  1827.949951  1222000\n",
              "4025  2020-12-03  1824.010010  1847.199951  ...  1826.770020  1826.770020  1227300\n",
              "4026  2020-12-04  1824.520020  1833.160034  ...  1827.989990  1827.989990  1378200\n",
              "4027  2020-12-07  1819.000000  1832.369995  ...  1819.479980  1819.479980  1320900\n",
              "4028  2020-12-08  1810.099976  1821.900024  ...  1818.550049  1818.550049  1096300\n",
              "4029  2020-12-09  1812.010010  1834.270020  ...  1784.130005  1784.130005  1507600\n",
              "4030  2020-12-10  1769.800049  1781.310059  ...  1775.329956  1775.329956  1362800\n",
              "4031  2020-12-11  1763.060059  1784.449951  ...  1781.770020  1781.770020  1220700\n",
              "4032  2020-12-14  1775.000000  1797.390015  ...  1760.060059  1760.060059  1600200\n",
              "4033  2020-12-15  1764.420044  1771.420044  ...  1767.770020  1767.770020  1482300\n",
              "4034  2020-12-16  1772.880005  1773.000000  ...  1763.000000  1763.000000  1513500\n",
              "4035  2020-12-17  1768.510010  1771.784058  ...  1747.900024  1747.900024  1624700\n",
              "4036  2020-12-18  1754.180054  1755.109985  ...  1731.010010  1731.010010  4016400\n",
              "4037  2020-12-21  1713.510010  1740.849976  ...  1739.369995  1739.369995  1828400\n",
              "4038  2020-12-22  1734.430054  1737.405029  ...  1723.500000  1723.500000   936700\n",
              "4039  2020-12-23  1728.109985  1747.989990  ...  1732.380005  1732.380005  1033800\n",
              "4040  2020-12-24  1735.000000  1746.000000  ...  1738.849976  1738.849976   346800\n",
              "4041  2020-12-28  1751.635010  1790.728027  ...  1776.089966  1776.089966  1393000\n",
              "4042  2020-12-29  1787.790039  1792.439941  ...  1758.719971  1758.719971  1299400\n",
              "4043  2020-12-30  1762.010010  1765.094971  ...  1739.520020  1739.520020  1306100\n",
              "4044  2020-12-31  1735.420044  1758.930054  ...  1751.880005  1751.880005  1011900\n",
              "\n",
              "[60 rows x 7 columns]"
            ]
          },
          "metadata": {},
          "execution_count": 26
        }
      ]
    },
    {
      "cell_type": "code",
      "metadata": {
        "id": "6iU9rEUIDUDL"
      },
      "source": [
        "past_60_days=data_traing.tail(60)"
      ],
      "execution_count": 27,
      "outputs": []
    },
    {
      "cell_type": "code",
      "metadata": {
        "id": "qCMGL-aQEwaM"
      },
      "source": [
        " df=past_60_days.append(data_test,ignore_index=True)"
      ],
      "execution_count": 28,
      "outputs": []
    },
    {
      "cell_type": "code",
      "metadata": {
        "id": "qQOGjCNGE9LX"
      },
      "source": [
        "df=df.drop(['Date','Adj Close'],axis=1)"
      ],
      "execution_count": 29,
      "outputs": []
    },
    {
      "cell_type": "code",
      "metadata": {
        "colab": {
          "base_uri": "https://localhost:8080/",
          "height": 206
        },
        "id": "rfZ-F32FE-Up",
        "outputId": "a5a47b46-c571-4cdd-baf7-739d114a1544"
      },
      "source": [
        "df.head()"
      ],
      "execution_count": 30,
      "outputs": [
        {
          "output_type": "execute_result",
          "data": {
            "text/html": [
              "<div>\n",
              "<style scoped>\n",
              "    .dataframe tbody tr th:only-of-type {\n",
              "        vertical-align: middle;\n",
              "    }\n",
              "\n",
              "    .dataframe tbody tr th {\n",
              "        vertical-align: top;\n",
              "    }\n",
              "\n",
              "    .dataframe thead th {\n",
              "        text-align: right;\n",
              "    }\n",
              "</style>\n",
              "<table border=\"1\" class=\"dataframe\">\n",
              "  <thead>\n",
              "    <tr style=\"text-align: right;\">\n",
              "      <th></th>\n",
              "      <th>Open</th>\n",
              "      <th>High</th>\n",
              "      <th>Low</th>\n",
              "      <th>Close</th>\n",
              "      <th>Volume</th>\n",
              "    </tr>\n",
              "  </thead>\n",
              "  <tbody>\n",
              "    <tr>\n",
              "      <th>0</th>\n",
              "      <td>1464.290039</td>\n",
              "      <td>1468.959961</td>\n",
              "      <td>1436.000000</td>\n",
              "      <td>1460.290039</td>\n",
              "      <td>1746200</td>\n",
              "    </tr>\n",
              "    <tr>\n",
              "      <th>1</th>\n",
              "      <td>1465.089966</td>\n",
              "      <td>1490.000000</td>\n",
              "      <td>1465.089966</td>\n",
              "      <td>1485.930054</td>\n",
              "      <td>1187800</td>\n",
              "    </tr>\n",
              "    <tr>\n",
              "      <th>2</th>\n",
              "      <td>1494.699951</td>\n",
              "      <td>1516.520020</td>\n",
              "      <td>1489.449951</td>\n",
              "      <td>1515.219971</td>\n",
              "      <td>1435300</td>\n",
              "    </tr>\n",
              "    <tr>\n",
              "      <th>3</th>\n",
              "      <td>1543.000000</td>\n",
              "      <td>1593.859985</td>\n",
              "      <td>1532.569946</td>\n",
              "      <td>1569.150024</td>\n",
              "      <td>2482600</td>\n",
              "    </tr>\n",
              "    <tr>\n",
              "      <th>4</th>\n",
              "      <td>1583.729980</td>\n",
              "      <td>1590.000000</td>\n",
              "      <td>1563.199951</td>\n",
              "      <td>1571.680054</td>\n",
              "      <td>1601000</td>\n",
              "    </tr>\n",
              "  </tbody>\n",
              "</table>\n",
              "</div>"
            ],
            "text/plain": [
              "          Open         High          Low        Close   Volume\n",
              "0  1464.290039  1468.959961  1436.000000  1460.290039  1746200\n",
              "1  1465.089966  1490.000000  1465.089966  1485.930054  1187800\n",
              "2  1494.699951  1516.520020  1489.449951  1515.219971  1435300\n",
              "3  1543.000000  1593.859985  1532.569946  1569.150024  2482600\n",
              "4  1583.729980  1590.000000  1563.199951  1571.680054  1601000"
            ]
          },
          "metadata": {},
          "execution_count": 30
        }
      ]
    },
    {
      "cell_type": "code",
      "metadata": {
        "colab": {
          "base_uri": "https://localhost:8080/"
        },
        "id": "Ym66-MTUFN0H",
        "outputId": "543f4a67-925d-4943-e16f-b51d1eaa91bd"
      },
      "source": [
        "inputs=scaler.fit_transform(df)\n",
        "inputs"
      ],
      "execution_count": 31,
      "outputs": [
        {
          "output_type": "execute_result",
          "data": {
            "text/plain": [
              "array([[0.00000000e+00, 0.00000000e+00, 0.00000000e+00, 0.00000000e+00,\n",
              "        3.51404967e-01],\n",
              "       [5.49891405e-04, 1.43378239e-02, 1.97047770e-02, 1.76032502e-02,\n",
              "        2.11184491e-01],\n",
              "       [2.09045941e-02, 3.24100041e-02, 3.62055894e-02, 3.77123546e-02,\n",
              "        2.73334505e-01],\n",
              "       ...,\n",
              "       [9.18897378e-01, 9.28624489e-01, 9.16781271e-01, 9.32669620e-01,\n",
              "        1.89990709e-01],\n",
              "       [9.40331304e-01, 9.37741768e-01, 9.38792443e-01, 9.44862822e-01,\n",
              "        1.29774251e-01],\n",
              "       [9.31209135e-01, 9.46614981e-01, 9.35459817e-01, 9.55936855e-01,\n",
              "        1.00519800e-01]])"
            ]
          },
          "metadata": {},
          "execution_count": 31
        }
      ]
    },
    {
      "cell_type": "code",
      "metadata": {
        "id": "oxPNfIUgFbRJ"
      },
      "source": [
        "x_test=[]\n",
        "y_test=[] \n",
        "for i in range(60,inputs.shape[0]):\n",
        "  x_test.append(training_data[i-60:i])\n",
        "  y_test.append(training_data[i,0])"
      ],
      "execution_count": 32,
      "outputs": []
    },
    {
      "cell_type": "code",
      "metadata": {
        "id": "Hpchf89BF1Tq"
      },
      "source": [
        "x_test,y_test=np.array(x_test),np.array(y_test)"
      ],
      "execution_count": 33,
      "outputs": []
    },
    {
      "cell_type": "code",
      "metadata": {
        "colab": {
          "base_uri": "https://localhost:8080/"
        },
        "id": "YBFIrW1DF_cH",
        "outputId": "68165e5d-2223-488c-956f-aaf09da93b5b"
      },
      "source": [
        "x_test.shape,y_test.shape"
      ],
      "execution_count": 34,
      "outputs": [
        {
          "output_type": "execute_result",
          "data": {
            "text/plain": [
              "((184, 60, 5), (184,))"
            ]
          },
          "metadata": {},
          "execution_count": 34
        }
      ]
    },
    {
      "cell_type": "markdown",
      "metadata": {
        "id": "axjLOcbAGrij"
      },
      "source": [
        "###  now finaly predict value using  our train model"
      ]
    },
    {
      "cell_type": "code",
      "metadata": {
        "id": "7hKC0I-wGJ0Y"
      },
      "source": [
        "y_pred=regression.predict(x_test)"
      ],
      "execution_count": 35,
      "outputs": []
    },
    {
      "cell_type": "markdown",
      "metadata": {
        "id": "igOcHWD_HGvq"
      },
      "source": [
        "#### now we scale our predicted value to in normal form"
      ]
    },
    {
      "cell_type": "code",
      "metadata": {
        "colab": {
          "base_uri": "https://localhost:8080/"
        },
        "id": "LlsmfhRRGghg",
        "outputId": "174441b0-d0a1-4ddb-eab8-76f1373013ae"
      },
      "source": [
        "scaler.scale_"
      ],
      "execution_count": 36,
      "outputs": [
        {
          "output_type": "execute_result",
          "data": {
            "text/plain": [
              "array([6.87426984e-04, 6.81454246e-04, 6.77373669e-04, 6.86553820e-04,\n",
              "       2.51111167e-07])"
            ]
          },
          "metadata": {},
          "execution_count": 36
        }
      ]
    },
    {
      "cell_type": "code",
      "metadata": {
        "colab": {
          "base_uri": "https://localhost:8080/"
        },
        "id": "N3miSCPZGipR",
        "outputId": "9288f75f-d238-436a-b28c-ca7156dbb4c5"
      },
      "source": [
        "scale=1/6.87426984e-04\n",
        "scale"
      ],
      "execution_count": 37,
      "outputs": [
        {
          "output_type": "execute_result",
          "data": {
            "text/plain": [
              "1454.6999510860053"
            ]
          },
          "metadata": {},
          "execution_count": 37
        }
      ]
    },
    {
      "cell_type": "code",
      "metadata": {
        "colab": {
          "base_uri": "https://localhost:8080/",
          "height": 350
        },
        "id": "hxWcBEoQHelQ",
        "outputId": "ad512bd1-6b6a-4a6e-d39a-50cd2a96fc3c"
      },
      "source": [
        "# Visualising the results\n",
        "plt.figure(figsize=(14,5))\n",
        "plt.plot(y_test, color = 'red', label = 'Real Google Stock Price')\n",
        "plt.plot(y_pred, color = 'blue', label = 'Predicted Google Stock Price')\n",
        "plt.title('Google Stock Price Prediction')\n",
        "plt.xlabel('Time')\n",
        "plt.ylabel('Google Stock Price')\n",
        "plt.legend()\n",
        "plt.show()"
      ],
      "execution_count": 38,
      "outputs": [
        {
          "output_type": "display_data",
          "data": {
            "image/png": "[encoded data removed]",
            "text/plain": [
              "<Figure size 1008x360 with 1 Axes>"
            ]
          },
          "metadata": {
            "needs_background": "light"
          }
        }
      ]
    },
    {
      "cell_type": "code",
      "metadata": {
        "id": "RbTY4jQeIfGi"
      },
      "source": [
        ""
      ],
      "execution_count": null,
      "outputs": []
    }
  ]
}