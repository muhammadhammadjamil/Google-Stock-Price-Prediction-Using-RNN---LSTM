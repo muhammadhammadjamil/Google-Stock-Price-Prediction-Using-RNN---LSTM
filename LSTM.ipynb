{
  "nbformat": 4,
  "nbformat_minor": 0,
  "metadata": {
    "accelerator": "TPU",
    "colab": {
      "name": "Untitled9.ipynb",
      "provenance": []
    },
    "kernelspec": {
      "display_name": "Python 3",
      "name": "python3"
    },
    "language_info": {
      "name": "python"
    }
  },
  "cells": [
    {
      "cell_type": "code",
      "metadata": {
        "id": "g3VuNozby_8v"
      },
      "source": [
        "import numpy as np\n",
        "from sklearn.preprocessing import MinMaxScaler\n",
        "import pandas as pd\n",
        "import matplotlib.pyplot as plt\n"
      ],
      "execution_count": 1,
      "outputs": []
    },
    {
      "cell_type": "code",
      "metadata": {
        "colab": {
          "base_uri": "https://localhost:8080/",
          "height": 35
        },
        "id": "wKetmgkbz3r_",
        "outputId": "eef398c4-ca30-464d-aa39-0ec3960be113"
      },
      "source": [
        "pwd"
      ],
      "execution_count": 2,
      "outputs": [
        {
          "output_type": "execute_result",
          "data": {
            "application/vnd.google.colaboratory.intrinsic+json": {
              "type": "string"
            },
            "text/plain": [
              "'/content'"
            ]
          },
          "metadata": {},
          "execution_count": 2
        }
      ]
    },
    {
      "cell_type": "code",
      "metadata": {
        "id": "3tcEs4Pz82Er"
      },
      "source": [
        "data=pd.read_csv('/content/GOOG.csv')"
      ],
      "execution_count": 3,
      "outputs": []
    },
    {
      "cell_type": "code",
      "metadata": {
        "colab": {
          "base_uri": "https://localhost:8080/",
          "height": 206
        },
        "id": "mQVqYAj19DPv",
        "outputId": "a2ce637c-c4b2-4f10-bf9b-690464e27464"
      },
      "source": [
        "data.head()"
      ],
      "execution_count": 4,
      "outputs": [
        {
          "output_type": "execute_result",
          "data": {
            "text/html": [
              "<div>\n",
              "<style scoped>\n",
              "    .dataframe tbody tr th:only-of-type {\n",
              "        vertical-align: middle;\n",
              "    }\n",
              "\n",
              "    .dataframe tbody tr th {\n",
              "        vertical-align: top;\n",
              "    }\n",
              "\n",
              "    .dataframe thead th {\n",
              "        text-align: right;\n",
              "    }\n",
              "</style>\n",
              "<table border=\"1\" class=\"dataframe\">\n",
              "  <thead>\n",
              "    <tr style=\"text-align: right;\">\n",
              "      <th></th>\n",
              "      <th>Date</th>\n",
              "      <th>Open</th>\n",
              "      <th>High</th>\n",
              "      <th>Low</th>\n",
              "      <th>Close</th>\n",
              "      <th>Adj Close</th>\n",
              "      <th>Volume</th>\n",
              "    </tr>\n",
              "  </thead>\n",
              "  <tbody>\n",
              "    <tr>\n",
              "      <th>0</th>\n",
              "      <td>2004-08-19</td>\n",
              "      <td>49.813286</td>\n",
              "      <td>51.835709</td>\n",
              "      <td>47.800831</td>\n",
              "      <td>49.982655</td>\n",
              "      <td>49.982655</td>\n",
              "      <td>44871300</td>\n",
              "    </tr>\n",
              "    <tr>\n",
              "      <th>1</th>\n",
              "      <td>2004-08-20</td>\n",
              "      <td>50.316402</td>\n",
              "      <td>54.336334</td>\n",
              "      <td>50.062355</td>\n",
              "      <td>53.952770</td>\n",
              "      <td>53.952770</td>\n",
              "      <td>22942800</td>\n",
              "    </tr>\n",
              "    <tr>\n",
              "      <th>2</th>\n",
              "      <td>2004-08-23</td>\n",
              "      <td>55.168217</td>\n",
              "      <td>56.528118</td>\n",
              "      <td>54.321388</td>\n",
              "      <td>54.495735</td>\n",
              "      <td>54.495735</td>\n",
              "      <td>18342800</td>\n",
              "    </tr>\n",
              "    <tr>\n",
              "      <th>3</th>\n",
              "      <td>2004-08-24</td>\n",
              "      <td>55.412300</td>\n",
              "      <td>55.591629</td>\n",
              "      <td>51.591621</td>\n",
              "      <td>52.239193</td>\n",
              "      <td>52.239193</td>\n",
              "      <td>15319700</td>\n",
              "    </tr>\n",
              "    <tr>\n",
              "      <th>4</th>\n",
              "      <td>2004-08-25</td>\n",
              "      <td>52.284027</td>\n",
              "      <td>53.798351</td>\n",
              "      <td>51.746044</td>\n",
              "      <td>52.802086</td>\n",
              "      <td>52.802086</td>\n",
              "      <td>9232100</td>\n",
              "    </tr>\n",
              "  </tbody>\n",
              "</table>\n",
              "</div>"
            ],
            "text/plain": [
              "         Date       Open       High        Low      Close  Adj Close    Volume\n",
              "0  2004-08-19  49.813286  51.835709  47.800831  49.982655  49.982655  44871300\n",
              "1  2004-08-20  50.316402  54.336334  50.062355  53.952770  53.952770  22942800\n",
              "2  2004-08-23  55.168217  56.528118  54.321388  54.495735  54.495735  18342800\n",
              "3  2004-08-24  55.412300  55.591629  51.591621  52.239193  52.239193  15319700\n",
              "4  2004-08-25  52.284027  53.798351  51.746044  52.802086  52.802086   9232100"
            ]
          },
          "metadata": {},
          "execution_count": 4
        }
      ]
    },
    {
      "cell_type": "code",
      "metadata": {
        "colab": {
          "base_uri": "https://localhost:8080/",
          "height": 206
        },
        "id": "mvgeUNYQ9HLi",
        "outputId": "9fdd9084-2b42-4ba1-e32f-2a6d914b7c3f"
      },
      "source": [
        "data.tail(5)"
      ],
      "execution_count": 5,
      "outputs": [
        {
          "output_type": "execute_result",
          "data": {
            "text/html": [
              "<div>\n",
              "<style scoped>\n",
              "    .dataframe tbody tr th:only-of-type {\n",
              "        vertical-align: middle;\n",
              "    }\n",
              "\n",
              "    .dataframe tbody tr th {\n",
              "        vertical-align: top;\n",
              "    }\n",
              "\n",
              "    .dataframe thead th {\n",
              "        text-align: right;\n",
              "    }\n",
              "</style>\n",
              "<table border=\"1\" class=\"dataframe\">\n",
              "  <thead>\n",
              "    <tr style=\"text-align: right;\">\n",
              "      <th></th>\n",
              "      <th>Date</th>\n",
              "      <th>Open</th>\n",
              "      <th>High</th>\n",
              "      <th>Low</th>\n",
              "      <th>Close</th>\n",
              "      <th>Adj Close</th>\n",
              "      <th>Volume</th>\n",
              "    </tr>\n",
              "  </thead>\n",
              "  <tbody>\n",
              "    <tr>\n",
              "      <th>3804</th>\n",
              "      <td>2019-09-30</td>\n",
              "      <td>1220.969971</td>\n",
              "      <td>1226.000000</td>\n",
              "      <td>1212.300049</td>\n",
              "      <td>1219.000000</td>\n",
              "      <td>1219.000000</td>\n",
              "      <td>1404100</td>\n",
              "    </tr>\n",
              "    <tr>\n",
              "      <th>3805</th>\n",
              "      <td>2019-10-01</td>\n",
              "      <td>1219.000000</td>\n",
              "      <td>1231.229980</td>\n",
              "      <td>1203.579956</td>\n",
              "      <td>1205.099976</td>\n",
              "      <td>1205.099976</td>\n",
              "      <td>1273500</td>\n",
              "    </tr>\n",
              "    <tr>\n",
              "      <th>3806</th>\n",
              "      <td>2019-10-02</td>\n",
              "      <td>1196.979980</td>\n",
              "      <td>1196.979980</td>\n",
              "      <td>1171.290039</td>\n",
              "      <td>1176.630005</td>\n",
              "      <td>1176.630005</td>\n",
              "      <td>1615100</td>\n",
              "    </tr>\n",
              "    <tr>\n",
              "      <th>3807</th>\n",
              "      <td>2019-10-03</td>\n",
              "      <td>1180.000000</td>\n",
              "      <td>1189.060059</td>\n",
              "      <td>1162.430054</td>\n",
              "      <td>1187.829956</td>\n",
              "      <td>1187.829956</td>\n",
              "      <td>1621200</td>\n",
              "    </tr>\n",
              "    <tr>\n",
              "      <th>3808</th>\n",
              "      <td>2019-10-04</td>\n",
              "      <td>1191.890015</td>\n",
              "      <td>1211.439941</td>\n",
              "      <td>1189.170044</td>\n",
              "      <td>1209.000000</td>\n",
              "      <td>1209.000000</td>\n",
              "      <td>1021092</td>\n",
              "    </tr>\n",
              "  </tbody>\n",
              "</table>\n",
              "</div>"
            ],
            "text/plain": [
              "            Date         Open         High  ...        Close    Adj Close   Volume\n",
              "3804  2019-09-30  1220.969971  1226.000000  ...  1219.000000  1219.000000  1404100\n",
              "3805  2019-10-01  1219.000000  1231.229980  ...  1205.099976  1205.099976  1273500\n",
              "3806  2019-10-02  1196.979980  1196.979980  ...  1176.630005  1176.630005  1615100\n",
              "3807  2019-10-03  1180.000000  1189.060059  ...  1187.829956  1187.829956  1621200\n",
              "3808  2019-10-04  1191.890015  1211.439941  ...  1209.000000  1209.000000  1021092\n",
              "\n",
              "[5 rows x 7 columns]"
            ]
          },
          "metadata": {},
          "execution_count": 5
        }
      ]
    },
    {
      "cell_type": "code",
      "metadata": {
        "id": "WfrNttXK9cHW"
      },
      "source": [
        "data_traing=data[data['Date']<'2019-01-01'].copy()"
      ],
      "execution_count": 27,
      "outputs": []
    },
    {
      "cell_type": "code",
      "metadata": {
        "id": "s2Xkv31j9vmq",
        "colab": {
          "base_uri": "https://localhost:8080/",
          "height": 206
        },
        "outputId": "9fcced10-c5b7-45ba-e5ae-086475e776f9"
      },
      "source": [
        "data_traing.tail()"
      ],
      "execution_count": 41,
      "outputs": [
        {
          "output_type": "execute_result",
          "data": {
            "text/html": [
              "<div>\n",
              "<style scoped>\n",
              "    .dataframe tbody tr th:only-of-type {\n",
              "        vertical-align: middle;\n",
              "    }\n",
              "\n",
              "    .dataframe tbody tr th {\n",
              "        vertical-align: top;\n",
              "    }\n",
              "\n",
              "    .dataframe thead th {\n",
              "        text-align: right;\n",
              "    }\n",
              "</style>\n",
              "<table border=\"1\" class=\"dataframe\">\n",
              "  <thead>\n",
              "    <tr style=\"text-align: right;\">\n",
              "      <th></th>\n",
              "      <th>Date</th>\n",
              "      <th>Open</th>\n",
              "      <th>High</th>\n",
              "      <th>Low</th>\n",
              "      <th>Close</th>\n",
              "      <th>Adj Close</th>\n",
              "      <th>Volume</th>\n",
              "    </tr>\n",
              "  </thead>\n",
              "  <tbody>\n",
              "    <tr>\n",
              "      <th>3612</th>\n",
              "      <td>2018-12-24</td>\n",
              "      <td>973.900024</td>\n",
              "      <td>1003.539978</td>\n",
              "      <td>970.109985</td>\n",
              "      <td>976.219971</td>\n",
              "      <td>976.219971</td>\n",
              "      <td>1590300</td>\n",
              "    </tr>\n",
              "    <tr>\n",
              "      <th>3613</th>\n",
              "      <td>2018-12-26</td>\n",
              "      <td>989.010010</td>\n",
              "      <td>1040.000000</td>\n",
              "      <td>983.000000</td>\n",
              "      <td>1039.459961</td>\n",
              "      <td>1039.459961</td>\n",
              "      <td>2373300</td>\n",
              "    </tr>\n",
              "    <tr>\n",
              "      <th>3614</th>\n",
              "      <td>2018-12-27</td>\n",
              "      <td>1017.150024</td>\n",
              "      <td>1043.890015</td>\n",
              "      <td>997.000000</td>\n",
              "      <td>1043.880005</td>\n",
              "      <td>1043.880005</td>\n",
              "      <td>2109800</td>\n",
              "    </tr>\n",
              "    <tr>\n",
              "      <th>3615</th>\n",
              "      <td>2018-12-28</td>\n",
              "      <td>1049.619995</td>\n",
              "      <td>1055.560059</td>\n",
              "      <td>1033.099976</td>\n",
              "      <td>1037.079956</td>\n",
              "      <td>1037.079956</td>\n",
              "      <td>1414800</td>\n",
              "    </tr>\n",
              "    <tr>\n",
              "      <th>3616</th>\n",
              "      <td>2018-12-31</td>\n",
              "      <td>1050.959961</td>\n",
              "      <td>1052.699951</td>\n",
              "      <td>1023.590027</td>\n",
              "      <td>1035.609985</td>\n",
              "      <td>1035.609985</td>\n",
              "      <td>1493300</td>\n",
              "    </tr>\n",
              "  </tbody>\n",
              "</table>\n",
              "</div>"
            ],
            "text/plain": [
              "            Date         Open         High  ...        Close    Adj Close   Volume\n",
              "3612  2018-12-24   973.900024  1003.539978  ...   976.219971   976.219971  1590300\n",
              "3613  2018-12-26   989.010010  1040.000000  ...  1039.459961  1039.459961  2373300\n",
              "3614  2018-12-27  1017.150024  1043.890015  ...  1043.880005  1043.880005  2109800\n",
              "3615  2018-12-28  1049.619995  1055.560059  ...  1037.079956  1037.079956  1414800\n",
              "3616  2018-12-31  1050.959961  1052.699951  ...  1035.609985  1035.609985  1493300\n",
              "\n",
              "[5 rows x 7 columns]"
            ]
          },
          "metadata": {},
          "execution_count": 41
        }
      ]
    },
    {
      "cell_type": "code",
      "metadata": {
        "id": "RM6POC3m-K5E"
      },
      "source": [
        "data_test=data[data['Date']>='2019-01-01'].copy()"
      ],
      "execution_count": 42,
      "outputs": []
    },
    {
      "cell_type": "code",
      "metadata": {
        "id": "OD_0YhDD-hsL",
        "colab": {
          "base_uri": "https://localhost:8080/",
          "height": 206
        },
        "outputId": "0f5b8759-1edc-4a0c-f5c6-08cca3e78734"
      },
      "source": [
        "data_test.head()"
      ],
      "execution_count": 43,
      "outputs": [
        {
          "output_type": "execute_result",
          "data": {
            "text/html": [
              "<div>\n",
              "<style scoped>\n",
              "    .dataframe tbody tr th:only-of-type {\n",
              "        vertical-align: middle;\n",
              "    }\n",
              "\n",
              "    .dataframe tbody tr th {\n",
              "        vertical-align: top;\n",
              "    }\n",
              "\n",
              "    .dataframe thead th {\n",
              "        text-align: right;\n",
              "    }\n",
              "</style>\n",
              "<table border=\"1\" class=\"dataframe\">\n",
              "  <thead>\n",
              "    <tr style=\"text-align: right;\">\n",
              "      <th></th>\n",
              "      <th>Date</th>\n",
              "      <th>Open</th>\n",
              "      <th>High</th>\n",
              "      <th>Low</th>\n",
              "      <th>Close</th>\n",
              "      <th>Adj Close</th>\n",
              "      <th>Volume</th>\n",
              "    </tr>\n",
              "  </thead>\n",
              "  <tbody>\n",
              "    <tr>\n",
              "      <th>3617</th>\n",
              "      <td>2019-01-02</td>\n",
              "      <td>1016.570007</td>\n",
              "      <td>1052.319946</td>\n",
              "      <td>1015.710022</td>\n",
              "      <td>1045.849976</td>\n",
              "      <td>1045.849976</td>\n",
              "      <td>1532600</td>\n",
              "    </tr>\n",
              "    <tr>\n",
              "      <th>3618</th>\n",
              "      <td>2019-01-03</td>\n",
              "      <td>1041.000000</td>\n",
              "      <td>1056.979980</td>\n",
              "      <td>1014.070007</td>\n",
              "      <td>1016.059998</td>\n",
              "      <td>1016.059998</td>\n",
              "      <td>1841100</td>\n",
              "    </tr>\n",
              "    <tr>\n",
              "      <th>3619</th>\n",
              "      <td>2019-01-04</td>\n",
              "      <td>1032.589966</td>\n",
              "      <td>1070.839966</td>\n",
              "      <td>1027.417969</td>\n",
              "      <td>1070.709961</td>\n",
              "      <td>1070.709961</td>\n",
              "      <td>2093900</td>\n",
              "    </tr>\n",
              "    <tr>\n",
              "      <th>3620</th>\n",
              "      <td>2019-01-07</td>\n",
              "      <td>1071.500000</td>\n",
              "      <td>1074.000000</td>\n",
              "      <td>1054.760010</td>\n",
              "      <td>1068.390015</td>\n",
              "      <td>1068.390015</td>\n",
              "      <td>1981900</td>\n",
              "    </tr>\n",
              "    <tr>\n",
              "      <th>3621</th>\n",
              "      <td>2019-01-08</td>\n",
              "      <td>1076.109985</td>\n",
              "      <td>1084.560059</td>\n",
              "      <td>1060.530029</td>\n",
              "      <td>1076.280029</td>\n",
              "      <td>1076.280029</td>\n",
              "      <td>1764900</td>\n",
              "    </tr>\n",
              "  </tbody>\n",
              "</table>\n",
              "</div>"
            ],
            "text/plain": [
              "            Date         Open         High  ...        Close    Adj Close   Volume\n",
              "3617  2019-01-02  1016.570007  1052.319946  ...  1045.849976  1045.849976  1532600\n",
              "3618  2019-01-03  1041.000000  1056.979980  ...  1016.059998  1016.059998  1841100\n",
              "3619  2019-01-04  1032.589966  1070.839966  ...  1070.709961  1070.709961  2093900\n",
              "3620  2019-01-07  1071.500000  1074.000000  ...  1068.390015  1068.390015  1981900\n",
              "3621  2019-01-08  1076.109985  1084.560059  ...  1076.280029  1076.280029  1764900\n",
              "\n",
              "[5 rows x 7 columns]"
            ]
          },
          "metadata": {},
          "execution_count": 43
        }
      ]
    },
    {
      "cell_type": "code",
      "metadata": {
        "id": "DL-MibMq86ir",
        "colab": {
          "base_uri": "https://localhost:8080/",
          "height": 206
        },
        "outputId": "c45727a7-e587-4575-b8a6-0b20b1401f16"
      },
      "source": [
        "data_test.tail()"
      ],
      "execution_count": 44,
      "outputs": [
        {
          "output_type": "execute_result",
          "data": {
            "text/html": [
              "<div>\n",
              "<style scoped>\n",
              "    .dataframe tbody tr th:only-of-type {\n",
              "        vertical-align: middle;\n",
              "    }\n",
              "\n",
              "    .dataframe tbody tr th {\n",
              "        vertical-align: top;\n",
              "    }\n",
              "\n",
              "    .dataframe thead th {\n",
              "        text-align: right;\n",
              "    }\n",
              "</style>\n",
              "<table border=\"1\" class=\"dataframe\">\n",
              "  <thead>\n",
              "    <tr style=\"text-align: right;\">\n",
              "      <th></th>\n",
              "      <th>Date</th>\n",
              "      <th>Open</th>\n",
              "      <th>High</th>\n",
              "      <th>Low</th>\n",
              "      <th>Close</th>\n",
              "      <th>Adj Close</th>\n",
              "      <th>Volume</th>\n",
              "    </tr>\n",
              "  </thead>\n",
              "  <tbody>\n",
              "    <tr>\n",
              "      <th>3804</th>\n",
              "      <td>2019-09-30</td>\n",
              "      <td>1220.969971</td>\n",
              "      <td>1226.000000</td>\n",
              "      <td>1212.300049</td>\n",
              "      <td>1219.000000</td>\n",
              "      <td>1219.000000</td>\n",
              "      <td>1404100</td>\n",
              "    </tr>\n",
              "    <tr>\n",
              "      <th>3805</th>\n",
              "      <td>2019-10-01</td>\n",
              "      <td>1219.000000</td>\n",
              "      <td>1231.229980</td>\n",
              "      <td>1203.579956</td>\n",
              "      <td>1205.099976</td>\n",
              "      <td>1205.099976</td>\n",
              "      <td>1273500</td>\n",
              "    </tr>\n",
              "    <tr>\n",
              "      <th>3806</th>\n",
              "      <td>2019-10-02</td>\n",
              "      <td>1196.979980</td>\n",
              "      <td>1196.979980</td>\n",
              "      <td>1171.290039</td>\n",
              "      <td>1176.630005</td>\n",
              "      <td>1176.630005</td>\n",
              "      <td>1615100</td>\n",
              "    </tr>\n",
              "    <tr>\n",
              "      <th>3807</th>\n",
              "      <td>2019-10-03</td>\n",
              "      <td>1180.000000</td>\n",
              "      <td>1189.060059</td>\n",
              "      <td>1162.430054</td>\n",
              "      <td>1187.829956</td>\n",
              "      <td>1187.829956</td>\n",
              "      <td>1621200</td>\n",
              "    </tr>\n",
              "    <tr>\n",
              "      <th>3808</th>\n",
              "      <td>2019-10-04</td>\n",
              "      <td>1191.890015</td>\n",
              "      <td>1211.439941</td>\n",
              "      <td>1189.170044</td>\n",
              "      <td>1209.000000</td>\n",
              "      <td>1209.000000</td>\n",
              "      <td>1021092</td>\n",
              "    </tr>\n",
              "  </tbody>\n",
              "</table>\n",
              "</div>"
            ],
            "text/plain": [
              "            Date         Open         High  ...        Close    Adj Close   Volume\n",
              "3804  2019-09-30  1220.969971  1226.000000  ...  1219.000000  1219.000000  1404100\n",
              "3805  2019-10-01  1219.000000  1231.229980  ...  1205.099976  1205.099976  1273500\n",
              "3806  2019-10-02  1196.979980  1196.979980  ...  1176.630005  1176.630005  1615100\n",
              "3807  2019-10-03  1180.000000  1189.060059  ...  1187.829956  1187.829956  1621200\n",
              "3808  2019-10-04  1191.890015  1211.439941  ...  1209.000000  1209.000000  1021092\n",
              "\n",
              "[5 rows x 7 columns]"
            ]
          },
          "metadata": {},
          "execution_count": 44
        }
      ]
    },
    {
      "cell_type": "code",
      "metadata": {
        "colab": {
          "base_uri": "https://localhost:8080/",
          "height": 206
        },
        "id": "klAwAduB-jcw",
        "outputId": "b8f4cb50-02fd-4236-ec3a-7293ed265c93"
      },
      "source": [
        "training_data=data_traing.drop(['Date','Adj Close'],axis=1)\n",
        "training_data.head()"
      ],
      "execution_count": 45,
      "outputs": [
        {
          "output_type": "execute_result",
          "data": {
            "text/html": [
              "<div>\n",
              "<style scoped>\n",
              "    .dataframe tbody tr th:only-of-type {\n",
              "        vertical-align: middle;\n",
              "    }\n",
              "\n",
              "    .dataframe tbody tr th {\n",
              "        vertical-align: top;\n",
              "    }\n",
              "\n",
              "    .dataframe thead th {\n",
              "        text-align: right;\n",
              "    }\n",
              "</style>\n",
              "<table border=\"1\" class=\"dataframe\">\n",
              "  <thead>\n",
              "    <tr style=\"text-align: right;\">\n",
              "      <th></th>\n",
              "      <th>Open</th>\n",
              "      <th>High</th>\n",
              "      <th>Low</th>\n",
              "      <th>Close</th>\n",
              "      <th>Volume</th>\n",
              "    </tr>\n",
              "  </thead>\n",
              "  <tbody>\n",
              "    <tr>\n",
              "      <th>0</th>\n",
              "      <td>49.813286</td>\n",
              "      <td>51.835709</td>\n",
              "      <td>47.800831</td>\n",
              "      <td>49.982655</td>\n",
              "      <td>44871300</td>\n",
              "    </tr>\n",
              "    <tr>\n",
              "      <th>1</th>\n",
              "      <td>50.316402</td>\n",
              "      <td>54.336334</td>\n",
              "      <td>50.062355</td>\n",
              "      <td>53.952770</td>\n",
              "      <td>22942800</td>\n",
              "    </tr>\n",
              "    <tr>\n",
              "      <th>2</th>\n",
              "      <td>55.168217</td>\n",
              "      <td>56.528118</td>\n",
              "      <td>54.321388</td>\n",
              "      <td>54.495735</td>\n",
              "      <td>18342800</td>\n",
              "    </tr>\n",
              "    <tr>\n",
              "      <th>3</th>\n",
              "      <td>55.412300</td>\n",
              "      <td>55.591629</td>\n",
              "      <td>51.591621</td>\n",
              "      <td>52.239193</td>\n",
              "      <td>15319700</td>\n",
              "    </tr>\n",
              "    <tr>\n",
              "      <th>4</th>\n",
              "      <td>52.284027</td>\n",
              "      <td>53.798351</td>\n",
              "      <td>51.746044</td>\n",
              "      <td>52.802086</td>\n",
              "      <td>9232100</td>\n",
              "    </tr>\n",
              "  </tbody>\n",
              "</table>\n",
              "</div>"
            ],
            "text/plain": [
              "        Open       High        Low      Close    Volume\n",
              "0  49.813286  51.835709  47.800831  49.982655  44871300\n",
              "1  50.316402  54.336334  50.062355  53.952770  22942800\n",
              "2  55.168217  56.528118  54.321388  54.495735  18342800\n",
              "3  55.412300  55.591629  51.591621  52.239193  15319700\n",
              "4  52.284027  53.798351  51.746044  52.802086   9232100"
            ]
          },
          "metadata": {},
          "execution_count": 45
        }
      ]
    },
    {
      "cell_type": "code",
      "metadata": {
        "id": "nkGDEGEw_7MK"
      },
      "source": [
        "scaler=MinMaxScaler()\n",
        "training_data=scaler.fit_transform(training_data)"
      ],
      "execution_count": 46,
      "outputs": []
    },
    {
      "cell_type": "code",
      "metadata": {
        "colab": {
          "base_uri": "https://localhost:8080/"
        },
        "id": "WfyFXyngAhvy",
        "outputId": "2f1e390b-d7af-4f8b-9ee1-ead56064e02e"
      },
      "source": [
        "training_data"
      ],
      "execution_count": 47,
      "outputs": [
        {
          "output_type": "execute_result",
          "data": {
            "text/plain": [
              "array([[3.30294890e-04, 9.44785459e-04, 0.00000000e+00, 1.34908021e-04,\n",
              "        5.43577404e-01],\n",
              "       [7.42148227e-04, 2.98909923e-03, 1.88269054e-03, 3.39307537e-03,\n",
              "        2.77885613e-01],\n",
              "       [4.71386886e-03, 4.78092896e-03, 5.42828241e-03, 3.83867225e-03,\n",
              "        2.22150736e-01],\n",
              "       ...,\n",
              "       [7.92197108e-01, 8.11970141e-01, 7.90196475e-01, 8.15799920e-01,\n",
              "        2.54672037e-02],\n",
              "       [8.18777193e-01, 8.21510648e-01, 8.20249255e-01, 8.10219301e-01,\n",
              "        1.70463908e-02],\n",
              "       [8.19874096e-01, 8.19172449e-01, 8.12332341e-01, 8.09012935e-01,\n",
              "        1.79975186e-02]])"
            ]
          },
          "metadata": {},
          "execution_count": 47
        }
      ]
    },
    {
      "cell_type": "code",
      "metadata": {
        "id": "_FXTBmcBAkug"
      },
      "source": [
        "x_train=[]\n",
        "y_train=[]"
      ],
      "execution_count": 48,
      "outputs": []
    },
    {
      "cell_type": "code",
      "metadata": {
        "colab": {
          "base_uri": "https://localhost:8080/"
        },
        "id": "alVcB7dfBWHM",
        "outputId": "a8c5f1b6-c94c-4451-c7e4-1a008cd1ad89"
      },
      "source": [
        "training_data.shape[0]"
      ],
      "execution_count": 49,
      "outputs": [
        {
          "output_type": "execute_result",
          "data": {
            "text/plain": [
              "3617"
            ]
          },
          "metadata": {},
          "execution_count": 49
        }
      ]
    },
    {
      "cell_type": "code",
      "metadata": {
        "id": "NNMGUUf7A7vc"
      },
      "source": [
        "for i in range(60,training_data.shape[0]):\n",
        "  x_train.append(training_data[i-60:i])\n",
        "  y_train.append(training_data[i,0])"
      ],
      "execution_count": 50,
      "outputs": []
    },
    {
      "cell_type": "code",
      "metadata": {
        "id": "tlrfFesdBgJk"
      },
      "source": [
        "x_train,y_train=np.array(x_train),np.array(y_train)"
      ],
      "execution_count": 51,
      "outputs": []
    },
    {
      "cell_type": "code",
      "metadata": {
        "colab": {
          "base_uri": "https://localhost:8080/"
        },
        "id": "W24QA8_PCs9x",
        "outputId": "5954713d-c262-4e7b-fa24-dc224f1fd382"
      },
      "source": [
        "x_train.shape"
      ],
      "execution_count": 52,
      "outputs": [
        {
          "output_type": "execute_result",
          "data": {
            "text/plain": [
              "(3557, 60, 5)"
            ]
          },
          "metadata": {},
          "execution_count": 52
        }
      ]
    },
    {
      "cell_type": "code",
      "metadata": {
        "colab": {
          "base_uri": "https://localhost:8080/"
        },
        "id": "F7BXa1M7CwJn",
        "outputId": "f40e5cc2-ea1e-4d8e-8fc0-54aa6896c3e4"
      },
      "source": [
        "y_train.shape"
      ],
      "execution_count": 53,
      "outputs": [
        {
          "output_type": "execute_result",
          "data": {
            "text/plain": [
              "(3557,)"
            ]
          },
          "metadata": {},
          "execution_count": 53
        }
      ]
    },
    {
      "cell_type": "markdown",
      "metadata": {
        "id": "jgToNMFmDR5V"
      },
      "source": [
        "### Building RNN "
      ]
    },
    {
      "cell_type": "code",
      "metadata": {
        "id": "DFxIP0ftDWUl"
      },
      "source": [
        "from tensorflow.keras import Sequential\n",
        "from tensorflow.keras.layers import Dense, LSTM, Dropout"
      ],
      "execution_count": 54,
      "outputs": []
    },
    {
      "cell_type": "code",
      "metadata": {
        "id": "wMgmvACUL6V_"
      },
      "source": [
        "regressior = Sequential()\n",
        "\n",
        "regressior.add(LSTM(units = 60, activation = 'relu', return_sequences = True, input_shape = (x_train.shape[1], 5)))\n",
        "regressior.add(Dropout(0.2))\n",
        "\n",
        "regressior.add(LSTM(units = 60, activation = 'relu', return_sequences = True))\n",
        "regressior.add(Dropout(0.2))\n",
        "\n",
        "regressior.add(LSTM(units = 80, activation = 'relu', return_sequences = True))\n",
        "regressior.add(Dropout(0.2))\n",
        "\n",
        "regressior.add(LSTM(units = 120, activation = 'relu'))\n",
        "regressior.add(Dropout(0.2))\n",
        "\n",
        "regressior.add(Dense(units = 1))"
      ],
      "execution_count": 74,
      "outputs": []
    },
    {
      "cell_type": "code",
      "metadata": {
        "colab": {
          "base_uri": "https://localhost:8080/"
        },
        "id": "0OwE1mygHQXi",
        "outputId": "a4de5b57-b490-4630-edf7-1e25709420dc"
      },
      "source": [
        "regressior.summary()\n"
      ],
      "execution_count": 75,
      "outputs": [
        {
          "output_type": "stream",
          "name": "stdout",
          "text": [
            "Model: \"sequential_2\"\n",
            "_________________________________________________________________\n",
            "Layer (type)                 Output Shape              Param #   \n",
            "=================================================================\n",
            "lstm_4 (LSTM)                (None, 60, 60)            15840     \n",
            "_________________________________________________________________\n",
            "dropout_4 (Dropout)          (None, 60, 60)            0         \n",
            "_________________________________________________________________\n",
            "lstm_5 (LSTM)                (None, 60, 60)            29040     \n",
            "_________________________________________________________________\n",
            "dropout_5 (Dropout)          (None, 60, 60)            0         \n",
            "_________________________________________________________________\n",
            "lstm_6 (LSTM)                (None, 60, 80)            45120     \n",
            "_________________________________________________________________\n",
            "dropout_6 (Dropout)          (None, 60, 80)            0         \n",
            "_________________________________________________________________\n",
            "lstm_7 (LSTM)                (None, 120)               96480     \n",
            "_________________________________________________________________\n",
            "dropout_7 (Dropout)          (None, 120)               0         \n",
            "_________________________________________________________________\n",
            "dense_1 (Dense)              (None, 1)                 121       \n",
            "=================================================================\n",
            "Total params: 186,601\n",
            "Trainable params: 186,601\n",
            "Non-trainable params: 0\n",
            "_________________________________________________________________\n"
          ]
        }
      ]
    },
    {
      "cell_type": "code",
      "metadata": {
        "colab": {
          "base_uri": "https://localhost:8080/"
        },
        "id": "C-ZQ0UjPQxk0",
        "outputId": "e2341c2f-4029-49d9-d177-6bf2ea13ade5"
      },
      "source": [
        "regressior.compile(optimizer='adam',loss='mean_squared_error')\n",
        "regressior.fit(x_train,y_train,epochs=75,batch_size=32)"
      ],
      "execution_count": 77,
      "outputs": [
        {
          "output_type": "stream",
          "name": "stdout",
          "text": [
            "Epoch 1/75\n",
            "112/112 [==============================] - 22s 158ms/step - loss: 0.0030\n",
            "Epoch 2/75\n",
            "112/112 [==============================] - 17s 156ms/step - loss: 0.0020\n",
            "Epoch 3/75\n",
            "112/112 [==============================] - 18s 157ms/step - loss: 0.0019\n",
            "Epoch 4/75\n",
            "112/112 [==============================] - 18s 158ms/step - loss: 0.0017\n",
            "Epoch 5/75\n",
            "112/112 [==============================] - 18s 160ms/step - loss: 0.0014\n",
            "Epoch 6/75\n",
            "112/112 [==============================] - 18s 158ms/step - loss: 0.0014\n",
            "Epoch 7/75\n",
            "112/112 [==============================] - 18s 157ms/step - loss: 0.0012\n",
            "Epoch 8/75\n",
            "112/112 [==============================] - 18s 158ms/step - loss: 0.0012\n",
            "Epoch 9/75\n",
            "112/112 [==============================] - 18s 157ms/step - loss: 0.0014\n",
            "Epoch 10/75\n",
            "112/112 [==============================] - 18s 158ms/step - loss: 0.0013\n",
            "Epoch 11/75\n",
            "112/112 [==============================] - 18s 157ms/step - loss: 0.0011\n",
            "Epoch 12/75\n",
            "112/112 [==============================] - 18s 157ms/step - loss: 0.0011\n",
            "Epoch 13/75\n",
            "112/112 [==============================] - 18s 158ms/step - loss: 0.0010\n",
            "Epoch 14/75\n",
            "112/112 [==============================] - 18s 157ms/step - loss: 0.0011\n",
            "Epoch 15/75\n",
            "112/112 [==============================] - 18s 158ms/step - loss: 9.2617e-04\n",
            "Epoch 16/75\n",
            "112/112 [==============================] - 18s 158ms/step - loss: 9.9581e-04\n",
            "Epoch 17/75\n",
            "112/112 [==============================] - 18s 159ms/step - loss: 9.2426e-04\n",
            "Epoch 18/75\n",
            "112/112 [==============================] - 18s 158ms/step - loss: 8.7346e-04\n",
            "Epoch 19/75\n",
            "112/112 [==============================] - 18s 157ms/step - loss: 8.3144e-04\n",
            "Epoch 20/75\n",
            "112/112 [==============================] - 18s 158ms/step - loss: 8.0668e-04\n",
            "Epoch 21/75\n",
            "112/112 [==============================] - 18s 158ms/step - loss: 8.4213e-04\n",
            "Epoch 22/75\n",
            "112/112 [==============================] - 18s 157ms/step - loss: 8.1733e-04\n",
            "Epoch 23/75\n",
            "112/112 [==============================] - 18s 158ms/step - loss: 8.2524e-04\n",
            "Epoch 24/75\n",
            "112/112 [==============================] - 18s 159ms/step - loss: 8.8082e-04\n",
            "Epoch 25/75\n",
            "112/112 [==============================] - 18s 158ms/step - loss: 7.6841e-04\n",
            "Epoch 26/75\n",
            "112/112 [==============================] - 18s 159ms/step - loss: 6.8176e-04\n",
            "Epoch 27/75\n",
            "112/112 [==============================] - 18s 158ms/step - loss: 0.0010\n",
            "Epoch 28/75\n",
            "112/112 [==============================] - 18s 157ms/step - loss: 7.0236e-04\n",
            "Epoch 29/75\n",
            "112/112 [==============================] - 18s 159ms/step - loss: 6.9555e-04\n",
            "Epoch 30/75\n",
            "112/112 [==============================] - 18s 158ms/step - loss: 7.6826e-04\n",
            "Epoch 31/75\n",
            "112/112 [==============================] - 18s 158ms/step - loss: 7.5053e-04\n",
            "Epoch 32/75\n",
            "112/112 [==============================] - 18s 158ms/step - loss: 7.8941e-04\n",
            "Epoch 33/75\n",
            "112/112 [==============================] - 18s 158ms/step - loss: 6.7181e-04\n",
            "Epoch 34/75\n",
            "112/112 [==============================] - 18s 159ms/step - loss: 6.9635e-04\n",
            "Epoch 35/75\n",
            "112/112 [==============================] - 18s 159ms/step - loss: 6.9880e-04\n",
            "Epoch 36/75\n",
            "112/112 [==============================] - 18s 159ms/step - loss: 7.0123e-04\n",
            "Epoch 37/75\n",
            "112/112 [==============================] - 18s 159ms/step - loss: 6.5033e-04\n",
            "Epoch 38/75\n",
            "112/112 [==============================] - 18s 158ms/step - loss: 7.5199e-04\n",
            "Epoch 39/75\n",
            "112/112 [==============================] - 18s 160ms/step - loss: 6.5874e-04\n",
            "Epoch 40/75\n",
            "112/112 [==============================] - 18s 157ms/step - loss: 6.7891e-04\n",
            "Epoch 41/75\n",
            "112/112 [==============================] - 18s 158ms/step - loss: 5.8955e-04\n",
            "Epoch 42/75\n",
            "112/112 [==============================] - 18s 159ms/step - loss: 6.8536e-04\n",
            "Epoch 43/75\n",
            "112/112 [==============================] - 18s 157ms/step - loss: 7.3350e-04\n",
            "Epoch 44/75\n",
            "112/112 [==============================] - 18s 158ms/step - loss: 6.7197e-04\n",
            "Epoch 45/75\n",
            "112/112 [==============================] - 18s 158ms/step - loss: 5.7026e-04\n",
            "Epoch 46/75\n",
            "112/112 [==============================] - 18s 158ms/step - loss: 7.5717e-04\n",
            "Epoch 47/75\n",
            "112/112 [==============================] - 18s 158ms/step - loss: 6.3465e-04\n",
            "Epoch 48/75\n",
            "112/112 [==============================] - 18s 157ms/step - loss: 6.3936e-04\n",
            "Epoch 49/75\n",
            "112/112 [==============================] - 18s 159ms/step - loss: 6.8656e-04\n",
            "Epoch 50/75\n",
            "112/112 [==============================] - 18s 158ms/step - loss: 6.6491e-04\n",
            "Epoch 51/75\n",
            "112/112 [==============================] - 18s 159ms/step - loss: 6.5528e-04\n",
            "Epoch 52/75\n",
            "112/112 [==============================] - 18s 157ms/step - loss: 6.4626e-04\n",
            "Epoch 53/75\n",
            "112/112 [==============================] - 18s 158ms/step - loss: 7.1585e-04\n",
            "Epoch 54/75\n",
            "112/112 [==============================] - 18s 158ms/step - loss: 5.6817e-04\n",
            "Epoch 55/75\n",
            "112/112 [==============================] - 18s 157ms/step - loss: 6.1138e-04\n",
            "Epoch 56/75\n",
            "112/112 [==============================] - 18s 159ms/step - loss: 5.8498e-04\n",
            "Epoch 57/75\n",
            "112/112 [==============================] - 18s 158ms/step - loss: 6.1093e-04\n",
            "Epoch 58/75\n",
            "112/112 [==============================] - 18s 158ms/step - loss: 5.9924e-04\n",
            "Epoch 59/75\n",
            "112/112 [==============================] - 18s 157ms/step - loss: 5.9932e-04\n",
            "Epoch 60/75\n",
            "112/112 [==============================] - 18s 158ms/step - loss: 5.9592e-04\n",
            "Epoch 61/75\n",
            "112/112 [==============================] - 18s 158ms/step - loss: 5.9994e-04\n",
            "Epoch 62/75\n",
            "112/112 [==============================] - 18s 158ms/step - loss: 5.9023e-04\n",
            "Epoch 63/75\n",
            "112/112 [==============================] - 18s 158ms/step - loss: 5.8627e-04\n",
            "Epoch 64/75\n",
            "112/112 [==============================] - 18s 158ms/step - loss: 6.2909e-04\n",
            "Epoch 65/75\n",
            "112/112 [==============================] - 18s 158ms/step - loss: 5.3825e-04\n",
            "Epoch 66/75\n",
            "112/112 [==============================] - 18s 160ms/step - loss: 6.1315e-04\n",
            "Epoch 67/75\n",
            "112/112 [==============================] - 18s 159ms/step - loss: 5.7129e-04\n",
            "Epoch 68/75\n",
            "112/112 [==============================] - 18s 159ms/step - loss: 6.2328e-04\n",
            "Epoch 69/75\n",
            "112/112 [==============================] - 18s 157ms/step - loss: 6.2645e-04\n",
            "Epoch 70/75\n",
            "112/112 [==============================] - 18s 158ms/step - loss: 6.0612e-04\n",
            "Epoch 71/75\n",
            "112/112 [==============================] - 18s 157ms/step - loss: 5.6837e-04\n",
            "Epoch 72/75\n",
            "112/112 [==============================] - 18s 157ms/step - loss: 5.5331e-04\n",
            "Epoch 73/75\n",
            "112/112 [==============================] - 18s 159ms/step - loss: 5.6641e-04\n",
            "Epoch 74/75\n",
            "112/112 [==============================] - 18s 159ms/step - loss: 6.3313e-04\n",
            "Epoch 75/75\n",
            "112/112 [==============================] - 18s 157ms/step - loss: 6.1700e-04\n"
          ]
        },
        {
          "output_type": "execute_result",
          "data": {
            "text/plain": [
              "<keras.callbacks.History at 0x7fadfa511750>"
            ]
          },
          "metadata": {},
          "execution_count": 77
        }
      ]
    },
    {
      "cell_type": "markdown",
      "metadata": {
        "id": "vLVBpY7VC9hV"
      },
      "source": [
        "### prepare dataset for prediction"
      ]
    },
    {
      "cell_type": "code",
      "metadata": {
        "id": "VYwqo9ZXDB8n",
        "colab": {
          "base_uri": "https://localhost:8080/",
          "height": 206
        },
        "outputId": "3a0fee67-8c57-4ff6-accb-4a3f1c77299f"
      },
      "source": [
        "data_test.head()"
      ],
      "execution_count": 105,
      "outputs": [
        {
          "output_type": "execute_result",
          "data": {
            "text/html": [
              "<div>\n",
              "<style scoped>\n",
              "    .dataframe tbody tr th:only-of-type {\n",
              "        vertical-align: middle;\n",
              "    }\n",
              "\n",
              "    .dataframe tbody tr th {\n",
              "        vertical-align: top;\n",
              "    }\n",
              "\n",
              "    .dataframe thead th {\n",
              "        text-align: right;\n",
              "    }\n",
              "</style>\n",
              "<table border=\"1\" class=\"dataframe\">\n",
              "  <thead>\n",
              "    <tr style=\"text-align: right;\">\n",
              "      <th></th>\n",
              "      <th>Date</th>\n",
              "      <th>Open</th>\n",
              "      <th>High</th>\n",
              "      <th>Low</th>\n",
              "      <th>Close</th>\n",
              "      <th>Adj Close</th>\n",
              "      <th>Volume</th>\n",
              "    </tr>\n",
              "  </thead>\n",
              "  <tbody>\n",
              "    <tr>\n",
              "      <th>3617</th>\n",
              "      <td>2019-01-02</td>\n",
              "      <td>1016.570007</td>\n",
              "      <td>1052.319946</td>\n",
              "      <td>1015.710022</td>\n",
              "      <td>1045.849976</td>\n",
              "      <td>1045.849976</td>\n",
              "      <td>1532600</td>\n",
              "    </tr>\n",
              "    <tr>\n",
              "      <th>3618</th>\n",
              "      <td>2019-01-03</td>\n",
              "      <td>1041.000000</td>\n",
              "      <td>1056.979980</td>\n",
              "      <td>1014.070007</td>\n",
              "      <td>1016.059998</td>\n",
              "      <td>1016.059998</td>\n",
              "      <td>1841100</td>\n",
              "    </tr>\n",
              "    <tr>\n",
              "      <th>3619</th>\n",
              "      <td>2019-01-04</td>\n",
              "      <td>1032.589966</td>\n",
              "      <td>1070.839966</td>\n",
              "      <td>1027.417969</td>\n",
              "      <td>1070.709961</td>\n",
              "      <td>1070.709961</td>\n",
              "      <td>2093900</td>\n",
              "    </tr>\n",
              "    <tr>\n",
              "      <th>3620</th>\n",
              "      <td>2019-01-07</td>\n",
              "      <td>1071.500000</td>\n",
              "      <td>1074.000000</td>\n",
              "      <td>1054.760010</td>\n",
              "      <td>1068.390015</td>\n",
              "      <td>1068.390015</td>\n",
              "      <td>1981900</td>\n",
              "    </tr>\n",
              "    <tr>\n",
              "      <th>3621</th>\n",
              "      <td>2019-01-08</td>\n",
              "      <td>1076.109985</td>\n",
              "      <td>1084.560059</td>\n",
              "      <td>1060.530029</td>\n",
              "      <td>1076.280029</td>\n",
              "      <td>1076.280029</td>\n",
              "      <td>1764900</td>\n",
              "    </tr>\n",
              "  </tbody>\n",
              "</table>\n",
              "</div>"
            ],
            "text/plain": [
              "            Date         Open         High  ...        Close    Adj Close   Volume\n",
              "3617  2019-01-02  1016.570007  1052.319946  ...  1045.849976  1045.849976  1532600\n",
              "3618  2019-01-03  1041.000000  1056.979980  ...  1016.059998  1016.059998  1841100\n",
              "3619  2019-01-04  1032.589966  1070.839966  ...  1070.709961  1070.709961  2093900\n",
              "3620  2019-01-07  1071.500000  1074.000000  ...  1068.390015  1068.390015  1981900\n",
              "3621  2019-01-08  1076.109985  1084.560059  ...  1076.280029  1076.280029  1764900\n",
              "\n",
              "[5 rows x 7 columns]"
            ]
          },
          "metadata": {},
          "execution_count": 105
        }
      ]
    },
    {
      "cell_type": "code",
      "metadata": {
        "id": "KbJqgJcIDNjV",
        "colab": {
          "base_uri": "https://localhost:8080/",
          "height": 1000
        },
        "outputId": "6bede288-5d9a-42bb-a84b-3ab3399aa664"
      },
      "source": [
        "data_traing.tail(60)"
      ],
      "execution_count": 106,
      "outputs": [
        {
          "output_type": "execute_result",
          "data": {
            "text/html": [
              "<div>\n",
              "<style scoped>\n",
              "    .dataframe tbody tr th:only-of-type {\n",
              "        vertical-align: middle;\n",
              "    }\n",
              "\n",
              "    .dataframe tbody tr th {\n",
              "        vertical-align: top;\n",
              "    }\n",
              "\n",
              "    .dataframe thead th {\n",
              "        text-align: right;\n",
              "    }\n",
              "</style>\n",
              "<table border=\"1\" class=\"dataframe\">\n",
              "  <thead>\n",
              "    <tr style=\"text-align: right;\">\n",
              "      <th></th>\n",
              "      <th>Date</th>\n",
              "      <th>Open</th>\n",
              "      <th>High</th>\n",
              "      <th>Low</th>\n",
              "      <th>Close</th>\n",
              "      <th>Adj Close</th>\n",
              "      <th>Volume</th>\n",
              "    </tr>\n",
              "  </thead>\n",
              "  <tbody>\n",
              "    <tr>\n",
              "      <th>3557</th>\n",
              "      <td>2018-10-04</td>\n",
              "      <td>1195.329956</td>\n",
              "      <td>1197.510010</td>\n",
              "      <td>1155.576050</td>\n",
              "      <td>1168.189941</td>\n",
              "      <td>1168.189941</td>\n",
              "      <td>2209500</td>\n",
              "    </tr>\n",
              "    <tr>\n",
              "      <th>3558</th>\n",
              "      <td>2018-10-05</td>\n",
              "      <td>1167.500000</td>\n",
              "      <td>1173.500000</td>\n",
              "      <td>1145.119995</td>\n",
              "      <td>1157.349976</td>\n",
              "      <td>1157.349976</td>\n",
              "      <td>1184300</td>\n",
              "    </tr>\n",
              "    <tr>\n",
              "      <th>3559</th>\n",
              "      <td>2018-10-08</td>\n",
              "      <td>1150.109985</td>\n",
              "      <td>1168.000000</td>\n",
              "      <td>1127.364014</td>\n",
              "      <td>1148.969971</td>\n",
              "      <td>1148.969971</td>\n",
              "      <td>1932400</td>\n",
              "    </tr>\n",
              "    <tr>\n",
              "      <th>3560</th>\n",
              "      <td>2018-10-09</td>\n",
              "      <td>1146.150024</td>\n",
              "      <td>1154.349976</td>\n",
              "      <td>1137.572021</td>\n",
              "      <td>1138.819946</td>\n",
              "      <td>1138.819946</td>\n",
              "      <td>1308700</td>\n",
              "    </tr>\n",
              "    <tr>\n",
              "      <th>3561</th>\n",
              "      <td>2018-10-10</td>\n",
              "      <td>1131.079956</td>\n",
              "      <td>1132.170044</td>\n",
              "      <td>1081.130005</td>\n",
              "      <td>1081.219971</td>\n",
              "      <td>1081.219971</td>\n",
              "      <td>2675700</td>\n",
              "    </tr>\n",
              "    <tr>\n",
              "      <th>3562</th>\n",
              "      <td>2018-10-11</td>\n",
              "      <td>1072.939941</td>\n",
              "      <td>1106.400024</td>\n",
              "      <td>1068.270020</td>\n",
              "      <td>1079.319946</td>\n",
              "      <td>1079.319946</td>\n",
              "      <td>2949000</td>\n",
              "    </tr>\n",
              "    <tr>\n",
              "      <th>3563</th>\n",
              "      <td>2018-10-12</td>\n",
              "      <td>1108.000000</td>\n",
              "      <td>1115.000000</td>\n",
              "      <td>1086.401978</td>\n",
              "      <td>1110.079956</td>\n",
              "      <td>1110.079956</td>\n",
              "      <td>2101300</td>\n",
              "    </tr>\n",
              "    <tr>\n",
              "      <th>3564</th>\n",
              "      <td>2018-10-15</td>\n",
              "      <td>1108.910034</td>\n",
              "      <td>1113.446045</td>\n",
              "      <td>1089.000000</td>\n",
              "      <td>1092.250000</td>\n",
              "      <td>1092.250000</td>\n",
              "      <td>1372400</td>\n",
              "    </tr>\n",
              "    <tr>\n",
              "      <th>3565</th>\n",
              "      <td>2018-10-16</td>\n",
              "      <td>1104.589966</td>\n",
              "      <td>1124.219971</td>\n",
              "      <td>1102.500000</td>\n",
              "      <td>1121.280029</td>\n",
              "      <td>1121.280029</td>\n",
              "      <td>1928500</td>\n",
              "    </tr>\n",
              "    <tr>\n",
              "      <th>3566</th>\n",
              "      <td>2018-10-17</td>\n",
              "      <td>1126.459961</td>\n",
              "      <td>1128.989990</td>\n",
              "      <td>1102.189941</td>\n",
              "      <td>1115.689941</td>\n",
              "      <td>1115.689941</td>\n",
              "      <td>1467200</td>\n",
              "    </tr>\n",
              "    <tr>\n",
              "      <th>3567</th>\n",
              "      <td>2018-10-18</td>\n",
              "      <td>1121.839966</td>\n",
              "      <td>1121.839966</td>\n",
              "      <td>1077.089966</td>\n",
              "      <td>1087.969971</td>\n",
              "      <td>1087.969971</td>\n",
              "      <td>2094500</td>\n",
              "    </tr>\n",
              "    <tr>\n",
              "      <th>3568</th>\n",
              "      <td>2018-10-19</td>\n",
              "      <td>1093.369995</td>\n",
              "      <td>1110.359985</td>\n",
              "      <td>1087.750000</td>\n",
              "      <td>1096.459961</td>\n",
              "      <td>1096.459961</td>\n",
              "      <td>1267600</td>\n",
              "    </tr>\n",
              "    <tr>\n",
              "      <th>3569</th>\n",
              "      <td>2018-10-22</td>\n",
              "      <td>1103.060059</td>\n",
              "      <td>1112.229980</td>\n",
              "      <td>1091.000000</td>\n",
              "      <td>1101.160034</td>\n",
              "      <td>1101.160034</td>\n",
              "      <td>1514200</td>\n",
              "    </tr>\n",
              "    <tr>\n",
              "      <th>3570</th>\n",
              "      <td>2018-10-23</td>\n",
              "      <td>1080.890015</td>\n",
              "      <td>1107.890015</td>\n",
              "      <td>1070.000000</td>\n",
              "      <td>1103.689941</td>\n",
              "      <td>1103.689941</td>\n",
              "      <td>1848700</td>\n",
              "    </tr>\n",
              "    <tr>\n",
              "      <th>3571</th>\n",
              "      <td>2018-10-24</td>\n",
              "      <td>1104.250000</td>\n",
              "      <td>1106.119995</td>\n",
              "      <td>1048.739990</td>\n",
              "      <td>1050.709961</td>\n",
              "      <td>1050.709961</td>\n",
              "      <td>1982400</td>\n",
              "    </tr>\n",
              "    <tr>\n",
              "      <th>3572</th>\n",
              "      <td>2018-10-25</td>\n",
              "      <td>1071.790039</td>\n",
              "      <td>1110.979980</td>\n",
              "      <td>1069.550049</td>\n",
              "      <td>1095.569946</td>\n",
              "      <td>1095.569946</td>\n",
              "      <td>2545800</td>\n",
              "    </tr>\n",
              "    <tr>\n",
              "      <th>3573</th>\n",
              "      <td>2018-10-26</td>\n",
              "      <td>1037.030029</td>\n",
              "      <td>1106.530029</td>\n",
              "      <td>1034.089966</td>\n",
              "      <td>1071.469971</td>\n",
              "      <td>1071.469971</td>\n",
              "      <td>4187600</td>\n",
              "    </tr>\n",
              "    <tr>\n",
              "      <th>3574</th>\n",
              "      <td>2018-10-29</td>\n",
              "      <td>1082.469971</td>\n",
              "      <td>1097.040039</td>\n",
              "      <td>995.830017</td>\n",
              "      <td>1020.080017</td>\n",
              "      <td>1020.080017</td>\n",
              "      <td>3880700</td>\n",
              "    </tr>\n",
              "    <tr>\n",
              "      <th>3575</th>\n",
              "      <td>2018-10-30</td>\n",
              "      <td>1008.460022</td>\n",
              "      <td>1037.489990</td>\n",
              "      <td>1000.750000</td>\n",
              "      <td>1036.209961</td>\n",
              "      <td>1036.209961</td>\n",
              "      <td>3212700</td>\n",
              "    </tr>\n",
              "    <tr>\n",
              "      <th>3576</th>\n",
              "      <td>2018-10-31</td>\n",
              "      <td>1059.810059</td>\n",
              "      <td>1091.939941</td>\n",
              "      <td>1057.000000</td>\n",
              "      <td>1076.770020</td>\n",
              "      <td>1076.770020</td>\n",
              "      <td>2529800</td>\n",
              "    </tr>\n",
              "    <tr>\n",
              "      <th>3577</th>\n",
              "      <td>2018-11-01</td>\n",
              "      <td>1075.800049</td>\n",
              "      <td>1083.974976</td>\n",
              "      <td>1062.459961</td>\n",
              "      <td>1070.000000</td>\n",
              "      <td>1070.000000</td>\n",
              "      <td>1482000</td>\n",
              "    </tr>\n",
              "    <tr>\n",
              "      <th>3578</th>\n",
              "      <td>2018-11-02</td>\n",
              "      <td>1073.729980</td>\n",
              "      <td>1082.974976</td>\n",
              "      <td>1054.609985</td>\n",
              "      <td>1057.790039</td>\n",
              "      <td>1057.790039</td>\n",
              "      <td>1839000</td>\n",
              "    </tr>\n",
              "    <tr>\n",
              "      <th>3579</th>\n",
              "      <td>2018-11-05</td>\n",
              "      <td>1055.000000</td>\n",
              "      <td>1058.469971</td>\n",
              "      <td>1021.239990</td>\n",
              "      <td>1040.089966</td>\n",
              "      <td>1040.089966</td>\n",
              "      <td>2441400</td>\n",
              "    </tr>\n",
              "    <tr>\n",
              "      <th>3580</th>\n",
              "      <td>2018-11-06</td>\n",
              "      <td>1039.479980</td>\n",
              "      <td>1064.344971</td>\n",
              "      <td>1038.069946</td>\n",
              "      <td>1055.810059</td>\n",
              "      <td>1055.810059</td>\n",
              "      <td>1233300</td>\n",
              "    </tr>\n",
              "    <tr>\n",
              "      <th>3581</th>\n",
              "      <td>2018-11-07</td>\n",
              "      <td>1069.000000</td>\n",
              "      <td>1095.459961</td>\n",
              "      <td>1065.900024</td>\n",
              "      <td>1093.390015</td>\n",
              "      <td>1093.390015</td>\n",
              "      <td>2058400</td>\n",
              "    </tr>\n",
              "    <tr>\n",
              "      <th>3582</th>\n",
              "      <td>2018-11-08</td>\n",
              "      <td>1091.380005</td>\n",
              "      <td>1093.270020</td>\n",
              "      <td>1072.204956</td>\n",
              "      <td>1082.400024</td>\n",
              "      <td>1082.400024</td>\n",
              "      <td>1488200</td>\n",
              "    </tr>\n",
              "    <tr>\n",
              "      <th>3583</th>\n",
              "      <td>2018-11-09</td>\n",
              "      <td>1073.989990</td>\n",
              "      <td>1075.560059</td>\n",
              "      <td>1053.109985</td>\n",
              "      <td>1066.150024</td>\n",
              "      <td>1066.150024</td>\n",
              "      <td>1343200</td>\n",
              "    </tr>\n",
              "    <tr>\n",
              "      <th>3584</th>\n",
              "      <td>2018-11-12</td>\n",
              "      <td>1061.390015</td>\n",
              "      <td>1062.119995</td>\n",
              "      <td>1031.000000</td>\n",
              "      <td>1038.630005</td>\n",
              "      <td>1038.630005</td>\n",
              "      <td>1471800</td>\n",
              "    </tr>\n",
              "    <tr>\n",
              "      <th>3585</th>\n",
              "      <td>2018-11-13</td>\n",
              "      <td>1043.290039</td>\n",
              "      <td>1056.604980</td>\n",
              "      <td>1031.150024</td>\n",
              "      <td>1036.050049</td>\n",
              "      <td>1036.050049</td>\n",
              "      <td>1513700</td>\n",
              "    </tr>\n",
              "    <tr>\n",
              "      <th>3586</th>\n",
              "      <td>2018-11-14</td>\n",
              "      <td>1050.000000</td>\n",
              "      <td>1054.563965</td>\n",
              "      <td>1031.000000</td>\n",
              "      <td>1043.660034</td>\n",
              "      <td>1043.660034</td>\n",
              "      <td>1565900</td>\n",
              "    </tr>\n",
              "    <tr>\n",
              "      <th>3587</th>\n",
              "      <td>2018-11-15</td>\n",
              "      <td>1044.709961</td>\n",
              "      <td>1071.849976</td>\n",
              "      <td>1031.780029</td>\n",
              "      <td>1064.709961</td>\n",
              "      <td>1064.709961</td>\n",
              "      <td>1836100</td>\n",
              "    </tr>\n",
              "    <tr>\n",
              "      <th>3588</th>\n",
              "      <td>2018-11-16</td>\n",
              "      <td>1059.410034</td>\n",
              "      <td>1067.000000</td>\n",
              "      <td>1048.979980</td>\n",
              "      <td>1061.489990</td>\n",
              "      <td>1061.489990</td>\n",
              "      <td>1658100</td>\n",
              "    </tr>\n",
              "    <tr>\n",
              "      <th>3589</th>\n",
              "      <td>2018-11-19</td>\n",
              "      <td>1057.199951</td>\n",
              "      <td>1060.790039</td>\n",
              "      <td>1016.260010</td>\n",
              "      <td>1020.000000</td>\n",
              "      <td>1020.000000</td>\n",
              "      <td>1858600</td>\n",
              "    </tr>\n",
              "    <tr>\n",
              "      <th>3590</th>\n",
              "      <td>2018-11-20</td>\n",
              "      <td>1000.000000</td>\n",
              "      <td>1031.739990</td>\n",
              "      <td>996.020020</td>\n",
              "      <td>1025.760010</td>\n",
              "      <td>1025.760010</td>\n",
              "      <td>2449100</td>\n",
              "    </tr>\n",
              "    <tr>\n",
              "      <th>3591</th>\n",
              "      <td>2018-11-21</td>\n",
              "      <td>1036.760010</td>\n",
              "      <td>1048.560059</td>\n",
              "      <td>1033.469971</td>\n",
              "      <td>1037.609985</td>\n",
              "      <td>1037.609985</td>\n",
              "      <td>1534300</td>\n",
              "    </tr>\n",
              "    <tr>\n",
              "      <th>3592</th>\n",
              "      <td>2018-11-23</td>\n",
              "      <td>1030.000000</td>\n",
              "      <td>1037.589966</td>\n",
              "      <td>1022.398987</td>\n",
              "      <td>1023.880005</td>\n",
              "      <td>1023.880005</td>\n",
              "      <td>691500</td>\n",
              "    </tr>\n",
              "    <tr>\n",
              "      <th>3593</th>\n",
              "      <td>2018-11-26</td>\n",
              "      <td>1038.349976</td>\n",
              "      <td>1049.310059</td>\n",
              "      <td>1033.910034</td>\n",
              "      <td>1048.619995</td>\n",
              "      <td>1048.619995</td>\n",
              "      <td>1942800</td>\n",
              "    </tr>\n",
              "    <tr>\n",
              "      <th>3594</th>\n",
              "      <td>2018-11-27</td>\n",
              "      <td>1041.000000</td>\n",
              "      <td>1057.579956</td>\n",
              "      <td>1038.489990</td>\n",
              "      <td>1044.410034</td>\n",
              "      <td>1044.410034</td>\n",
              "      <td>1803200</td>\n",
              "    </tr>\n",
              "    <tr>\n",
              "      <th>3595</th>\n",
              "      <td>2018-11-28</td>\n",
              "      <td>1048.760010</td>\n",
              "      <td>1086.839966</td>\n",
              "      <td>1035.760010</td>\n",
              "      <td>1086.229980</td>\n",
              "      <td>1086.229980</td>\n",
              "      <td>2475400</td>\n",
              "    </tr>\n",
              "    <tr>\n",
              "      <th>3596</th>\n",
              "      <td>2018-11-29</td>\n",
              "      <td>1076.079956</td>\n",
              "      <td>1094.244995</td>\n",
              "      <td>1076.000000</td>\n",
              "      <td>1088.300049</td>\n",
              "      <td>1088.300049</td>\n",
              "      <td>1468900</td>\n",
              "    </tr>\n",
              "    <tr>\n",
              "      <th>3597</th>\n",
              "      <td>2018-11-30</td>\n",
              "      <td>1089.069946</td>\n",
              "      <td>1095.569946</td>\n",
              "      <td>1077.880005</td>\n",
              "      <td>1094.430054</td>\n",
              "      <td>1094.430054</td>\n",
              "      <td>2580200</td>\n",
              "    </tr>\n",
              "    <tr>\n",
              "      <th>3598</th>\n",
              "      <td>2018-12-03</td>\n",
              "      <td>1123.140015</td>\n",
              "      <td>1124.650024</td>\n",
              "      <td>1103.665039</td>\n",
              "      <td>1106.430054</td>\n",
              "      <td>1106.430054</td>\n",
              "      <td>1991200</td>\n",
              "    </tr>\n",
              "    <tr>\n",
              "      <th>3599</th>\n",
              "      <td>2018-12-04</td>\n",
              "      <td>1103.119995</td>\n",
              "      <td>1104.420044</td>\n",
              "      <td>1049.979980</td>\n",
              "      <td>1050.819946</td>\n",
              "      <td>1050.819946</td>\n",
              "      <td>2345200</td>\n",
              "    </tr>\n",
              "    <tr>\n",
              "      <th>3600</th>\n",
              "      <td>2018-12-06</td>\n",
              "      <td>1034.260010</td>\n",
              "      <td>1071.199951</td>\n",
              "      <td>1030.770020</td>\n",
              "      <td>1068.729980</td>\n",
              "      <td>1068.729980</td>\n",
              "      <td>2769200</td>\n",
              "    </tr>\n",
              "    <tr>\n",
              "      <th>3601</th>\n",
              "      <td>2018-12-07</td>\n",
              "      <td>1060.010010</td>\n",
              "      <td>1075.260010</td>\n",
              "      <td>1028.500000</td>\n",
              "      <td>1036.579956</td>\n",
              "      <td>1036.579956</td>\n",
              "      <td>2101200</td>\n",
              "    </tr>\n",
              "    <tr>\n",
              "      <th>3602</th>\n",
              "      <td>2018-12-10</td>\n",
              "      <td>1035.050049</td>\n",
              "      <td>1048.449951</td>\n",
              "      <td>1023.289978</td>\n",
              "      <td>1039.550049</td>\n",
              "      <td>1039.550049</td>\n",
              "      <td>1807700</td>\n",
              "    </tr>\n",
              "    <tr>\n",
              "      <th>3603</th>\n",
              "      <td>2018-12-11</td>\n",
              "      <td>1056.489990</td>\n",
              "      <td>1060.599976</td>\n",
              "      <td>1039.839966</td>\n",
              "      <td>1051.750000</td>\n",
              "      <td>1051.750000</td>\n",
              "      <td>1394700</td>\n",
              "    </tr>\n",
              "    <tr>\n",
              "      <th>3604</th>\n",
              "      <td>2018-12-12</td>\n",
              "      <td>1068.000000</td>\n",
              "      <td>1081.650024</td>\n",
              "      <td>1062.790039</td>\n",
              "      <td>1063.680054</td>\n",
              "      <td>1063.680054</td>\n",
              "      <td>1523800</td>\n",
              "    </tr>\n",
              "    <tr>\n",
              "      <th>3605</th>\n",
              "      <td>2018-12-13</td>\n",
              "      <td>1068.069946</td>\n",
              "      <td>1079.760010</td>\n",
              "      <td>1053.930054</td>\n",
              "      <td>1061.900024</td>\n",
              "      <td>1061.900024</td>\n",
              "      <td>1329800</td>\n",
              "    </tr>\n",
              "    <tr>\n",
              "      <th>3606</th>\n",
              "      <td>2018-12-14</td>\n",
              "      <td>1049.979980</td>\n",
              "      <td>1062.599976</td>\n",
              "      <td>1040.790039</td>\n",
              "      <td>1042.099976</td>\n",
              "      <td>1042.099976</td>\n",
              "      <td>1686600</td>\n",
              "    </tr>\n",
              "    <tr>\n",
              "      <th>3607</th>\n",
              "      <td>2018-12-17</td>\n",
              "      <td>1037.510010</td>\n",
              "      <td>1053.150024</td>\n",
              "      <td>1007.900024</td>\n",
              "      <td>1016.530029</td>\n",
              "      <td>1016.530029</td>\n",
              "      <td>2385400</td>\n",
              "    </tr>\n",
              "    <tr>\n",
              "      <th>3608</th>\n",
              "      <td>2018-12-18</td>\n",
              "      <td>1026.089966</td>\n",
              "      <td>1049.479980</td>\n",
              "      <td>1021.440002</td>\n",
              "      <td>1028.709961</td>\n",
              "      <td>1028.709961</td>\n",
              "      <td>2192500</td>\n",
              "    </tr>\n",
              "    <tr>\n",
              "      <th>3609</th>\n",
              "      <td>2018-12-19</td>\n",
              "      <td>1033.989990</td>\n",
              "      <td>1062.000000</td>\n",
              "      <td>1008.049988</td>\n",
              "      <td>1023.010010</td>\n",
              "      <td>1023.010010</td>\n",
              "      <td>2479300</td>\n",
              "    </tr>\n",
              "    <tr>\n",
              "      <th>3610</th>\n",
              "      <td>2018-12-20</td>\n",
              "      <td>1018.130005</td>\n",
              "      <td>1034.219971</td>\n",
              "      <td>996.359985</td>\n",
              "      <td>1009.409973</td>\n",
              "      <td>1009.409973</td>\n",
              "      <td>2673500</td>\n",
              "    </tr>\n",
              "    <tr>\n",
              "      <th>3611</th>\n",
              "      <td>2018-12-21</td>\n",
              "      <td>1015.299988</td>\n",
              "      <td>1024.020020</td>\n",
              "      <td>973.690002</td>\n",
              "      <td>979.539978</td>\n",
              "      <td>979.539978</td>\n",
              "      <td>4596000</td>\n",
              "    </tr>\n",
              "    <tr>\n",
              "      <th>3612</th>\n",
              "      <td>2018-12-24</td>\n",
              "      <td>973.900024</td>\n",
              "      <td>1003.539978</td>\n",
              "      <td>970.109985</td>\n",
              "      <td>976.219971</td>\n",
              "      <td>976.219971</td>\n",
              "      <td>1590300</td>\n",
              "    </tr>\n",
              "    <tr>\n",
              "      <th>3613</th>\n",
              "      <td>2018-12-26</td>\n",
              "      <td>989.010010</td>\n",
              "      <td>1040.000000</td>\n",
              "      <td>983.000000</td>\n",
              "      <td>1039.459961</td>\n",
              "      <td>1039.459961</td>\n",
              "      <td>2373300</td>\n",
              "    </tr>\n",
              "    <tr>\n",
              "      <th>3614</th>\n",
              "      <td>2018-12-27</td>\n",
              "      <td>1017.150024</td>\n",
              "      <td>1043.890015</td>\n",
              "      <td>997.000000</td>\n",
              "      <td>1043.880005</td>\n",
              "      <td>1043.880005</td>\n",
              "      <td>2109800</td>\n",
              "    </tr>\n",
              "    <tr>\n",
              "      <th>3615</th>\n",
              "      <td>2018-12-28</td>\n",
              "      <td>1049.619995</td>\n",
              "      <td>1055.560059</td>\n",
              "      <td>1033.099976</td>\n",
              "      <td>1037.079956</td>\n",
              "      <td>1037.079956</td>\n",
              "      <td>1414800</td>\n",
              "    </tr>\n",
              "    <tr>\n",
              "      <th>3616</th>\n",
              "      <td>2018-12-31</td>\n",
              "      <td>1050.959961</td>\n",
              "      <td>1052.699951</td>\n",
              "      <td>1023.590027</td>\n",
              "      <td>1035.609985</td>\n",
              "      <td>1035.609985</td>\n",
              "      <td>1493300</td>\n",
              "    </tr>\n",
              "  </tbody>\n",
              "</table>\n",
              "</div>"
            ],
            "text/plain": [
              "            Date         Open         High  ...        Close    Adj Close   Volume\n",
              "3557  2018-10-04  1195.329956  1197.510010  ...  1168.189941  1168.189941  2209500\n",
              "3558  2018-10-05  1167.500000  1173.500000  ...  1157.349976  1157.349976  1184300\n",
              "3559  2018-10-08  1150.109985  1168.000000  ...  1148.969971  1148.969971  1932400\n",
              "3560  2018-10-09  1146.150024  1154.349976  ...  1138.819946  1138.819946  1308700\n",
              "3561  2018-10-10  1131.079956  1132.170044  ...  1081.219971  1081.219971  2675700\n",
              "3562  2018-10-11  1072.939941  1106.400024  ...  1079.319946  1079.319946  2949000\n",
              "3563  2018-10-12  1108.000000  1115.000000  ...  1110.079956  1110.079956  2101300\n",
              "3564  2018-10-15  1108.910034  1113.446045  ...  1092.250000  1092.250000  1372400\n",
              "3565  2018-10-16  1104.589966  1124.219971  ...  1121.280029  1121.280029  1928500\n",
              "3566  2018-10-17  1126.459961  1128.989990  ...  1115.689941  1115.689941  1467200\n",
              "3567  2018-10-18  1121.839966  1121.839966  ...  1087.969971  1087.969971  2094500\n",
              "3568  2018-10-19  1093.369995  1110.359985  ...  1096.459961  1096.459961  1267600\n",
              "3569  2018-10-22  1103.060059  1112.229980  ...  1101.160034  1101.160034  1514200\n",
              "3570  2018-10-23  1080.890015  1107.890015  ...  1103.689941  1103.689941  1848700\n",
              "3571  2018-10-24  1104.250000  1106.119995  ...  1050.709961  1050.709961  1982400\n",
              "3572  2018-10-25  1071.790039  1110.979980  ...  1095.569946  1095.569946  2545800\n",
              "3573  2018-10-26  1037.030029  1106.530029  ...  1071.469971  1071.469971  4187600\n",
              "3574  2018-10-29  1082.469971  1097.040039  ...  1020.080017  1020.080017  3880700\n",
              "3575  2018-10-30  1008.460022  1037.489990  ...  1036.209961  1036.209961  3212700\n",
              "3576  2018-10-31  1059.810059  1091.939941  ...  1076.770020  1076.770020  2529800\n",
              "3577  2018-11-01  1075.800049  1083.974976  ...  1070.000000  1070.000000  1482000\n",
              "3578  2018-11-02  1073.729980  1082.974976  ...  1057.790039  1057.790039  1839000\n",
              "3579  2018-11-05  1055.000000  1058.469971  ...  1040.089966  1040.089966  2441400\n",
              "3580  2018-11-06  1039.479980  1064.344971  ...  1055.810059  1055.810059  1233300\n",
              "3581  2018-11-07  1069.000000  1095.459961  ...  1093.390015  1093.390015  2058400\n",
              "3582  2018-11-08  1091.380005  1093.270020  ...  1082.400024  1082.400024  1488200\n",
              "3583  2018-11-09  1073.989990  1075.560059  ...  1066.150024  1066.150024  1343200\n",
              "3584  2018-11-12  1061.390015  1062.119995  ...  1038.630005  1038.630005  1471800\n",
              "3585  2018-11-13  1043.290039  1056.604980  ...  1036.050049  1036.050049  1513700\n",
              "3586  2018-11-14  1050.000000  1054.563965  ...  1043.660034  1043.660034  1565900\n",
              "3587  2018-11-15  1044.709961  1071.849976  ...  1064.709961  1064.709961  1836100\n",
              "3588  2018-11-16  1059.410034  1067.000000  ...  1061.489990  1061.489990  1658100\n",
              "3589  2018-11-19  1057.199951  1060.790039  ...  1020.000000  1020.000000  1858600\n",
              "3590  2018-11-20  1000.000000  1031.739990  ...  1025.760010  1025.760010  2449100\n",
              "3591  2018-11-21  1036.760010  1048.560059  ...  1037.609985  1037.609985  1534300\n",
              "3592  2018-11-23  1030.000000  1037.589966  ...  1023.880005  1023.880005   691500\n",
              "3593  2018-11-26  1038.349976  1049.310059  ...  1048.619995  1048.619995  1942800\n",
              "3594  2018-11-27  1041.000000  1057.579956  ...  1044.410034  1044.410034  1803200\n",
              "3595  2018-11-28  1048.760010  1086.839966  ...  1086.229980  1086.229980  2475400\n",
              "3596  2018-11-29  1076.079956  1094.244995  ...  1088.300049  1088.300049  1468900\n",
              "3597  2018-11-30  1089.069946  1095.569946  ...  1094.430054  1094.430054  2580200\n",
              "3598  2018-12-03  1123.140015  1124.650024  ...  1106.430054  1106.430054  1991200\n",
              "3599  2018-12-04  1103.119995  1104.420044  ...  1050.819946  1050.819946  2345200\n",
              "3600  2018-12-06  1034.260010  1071.199951  ...  1068.729980  1068.729980  2769200\n",
              "3601  2018-12-07  1060.010010  1075.260010  ...  1036.579956  1036.579956  2101200\n",
              "3602  2018-12-10  1035.050049  1048.449951  ...  1039.550049  1039.550049  1807700\n",
              "3603  2018-12-11  1056.489990  1060.599976  ...  1051.750000  1051.750000  1394700\n",
              "3604  2018-12-12  1068.000000  1081.650024  ...  1063.680054  1063.680054  1523800\n",
              "3605  2018-12-13  1068.069946  1079.760010  ...  1061.900024  1061.900024  1329800\n",
              "3606  2018-12-14  1049.979980  1062.599976  ...  1042.099976  1042.099976  1686600\n",
              "3607  2018-12-17  1037.510010  1053.150024  ...  1016.530029  1016.530029  2385400\n",
              "3608  2018-12-18  1026.089966  1049.479980  ...  1028.709961  1028.709961  2192500\n",
              "3609  2018-12-19  1033.989990  1062.000000  ...  1023.010010  1023.010010  2479300\n",
              "3610  2018-12-20  1018.130005  1034.219971  ...  1009.409973  1009.409973  2673500\n",
              "3611  2018-12-21  1015.299988  1024.020020  ...   979.539978   979.539978  4596000\n",
              "3612  2018-12-24   973.900024  1003.539978  ...   976.219971   976.219971  1590300\n",
              "3613  2018-12-26   989.010010  1040.000000  ...  1039.459961  1039.459961  2373300\n",
              "3614  2018-12-27  1017.150024  1043.890015  ...  1043.880005  1043.880005  2109800\n",
              "3615  2018-12-28  1049.619995  1055.560059  ...  1037.079956  1037.079956  1414800\n",
              "3616  2018-12-31  1050.959961  1052.699951  ...  1035.609985  1035.609985  1493300\n",
              "\n",
              "[60 rows x 7 columns]"
            ]
          },
          "metadata": {},
          "execution_count": 106
        }
      ]
    },
    {
      "cell_type": "code",
      "metadata": {
        "id": "6iU9rEUIDUDL"
      },
      "source": [
        "past_60_days=data_traing.tail(60)"
      ],
      "execution_count": 107,
      "outputs": []
    },
    {
      "cell_type": "code",
      "metadata": {
        "id": "qCMGL-aQEwaM"
      },
      "source": [
        " df=past_60_days.append(data_test,ignore_index=True)"
      ],
      "execution_count": 108,
      "outputs": []
    },
    {
      "cell_type": "code",
      "metadata": {
        "id": "qQOGjCNGE9LX"
      },
      "source": [
        "df=df.drop(['Date','Adj Close'],axis=1)"
      ],
      "execution_count": 109,
      "outputs": []
    },
    {
      "cell_type": "code",
      "metadata": {
        "colab": {
          "base_uri": "https://localhost:8080/",
          "height": 206
        },
        "id": "rfZ-F32FE-Up",
        "outputId": "81f46ea7-f349-4b8a-b65a-400654969d4f"
      },
      "source": [
        "df.head()"
      ],
      "execution_count": 110,
      "outputs": [
        {
          "output_type": "execute_result",
          "data": {
            "text/html": [
              "<div>\n",
              "<style scoped>\n",
              "    .dataframe tbody tr th:only-of-type {\n",
              "        vertical-align: middle;\n",
              "    }\n",
              "\n",
              "    .dataframe tbody tr th {\n",
              "        vertical-align: top;\n",
              "    }\n",
              "\n",
              "    .dataframe thead th {\n",
              "        text-align: right;\n",
              "    }\n",
              "</style>\n",
              "<table border=\"1\" class=\"dataframe\">\n",
              "  <thead>\n",
              "    <tr style=\"text-align: right;\">\n",
              "      <th></th>\n",
              "      <th>Open</th>\n",
              "      <th>High</th>\n",
              "      <th>Low</th>\n",
              "      <th>Close</th>\n",
              "      <th>Volume</th>\n",
              "    </tr>\n",
              "  </thead>\n",
              "  <tbody>\n",
              "    <tr>\n",
              "      <th>0</th>\n",
              "      <td>1195.329956</td>\n",
              "      <td>1197.510010</td>\n",
              "      <td>1155.576050</td>\n",
              "      <td>1168.189941</td>\n",
              "      <td>2209500</td>\n",
              "    </tr>\n",
              "    <tr>\n",
              "      <th>1</th>\n",
              "      <td>1167.500000</td>\n",
              "      <td>1173.500000</td>\n",
              "      <td>1145.119995</td>\n",
              "      <td>1157.349976</td>\n",
              "      <td>1184300</td>\n",
              "    </tr>\n",
              "    <tr>\n",
              "      <th>2</th>\n",
              "      <td>1150.109985</td>\n",
              "      <td>1168.000000</td>\n",
              "      <td>1127.364014</td>\n",
              "      <td>1148.969971</td>\n",
              "      <td>1932400</td>\n",
              "    </tr>\n",
              "    <tr>\n",
              "      <th>3</th>\n",
              "      <td>1146.150024</td>\n",
              "      <td>1154.349976</td>\n",
              "      <td>1137.572021</td>\n",
              "      <td>1138.819946</td>\n",
              "      <td>1308700</td>\n",
              "    </tr>\n",
              "    <tr>\n",
              "      <th>4</th>\n",
              "      <td>1131.079956</td>\n",
              "      <td>1132.170044</td>\n",
              "      <td>1081.130005</td>\n",
              "      <td>1081.219971</td>\n",
              "      <td>2675700</td>\n",
              "    </tr>\n",
              "  </tbody>\n",
              "</table>\n",
              "</div>"
            ],
            "text/plain": [
              "          Open         High          Low        Close   Volume\n",
              "0  1195.329956  1197.510010  1155.576050  1168.189941  2209500\n",
              "1  1167.500000  1173.500000  1145.119995  1157.349976  1184300\n",
              "2  1150.109985  1168.000000  1127.364014  1148.969971  1932400\n",
              "3  1146.150024  1154.349976  1137.572021  1138.819946  1308700\n",
              "4  1131.079956  1132.170044  1081.130005  1081.219971  2675700"
            ]
          },
          "metadata": {},
          "execution_count": 110
        }
      ]
    },
    {
      "cell_type": "code",
      "metadata": {
        "colab": {
          "base_uri": "https://localhost:8080/"
        },
        "id": "Ym66-MTUFN0H",
        "outputId": "c1cb42b2-af7f-4e39-b2ba-5ac9b522613e"
      },
      "source": [
        "inputs=scaler.fit_transform(df)\n",
        "inputs"
      ],
      "execution_count": 111,
      "outputs": [
        {
          "output_type": "execute_result",
          "data": {
            "text/plain": [
              "array([[0.73785388, 0.67885768, 0.62618305, 0.61655312, 0.27522437],\n",
              "       [0.64511827, 0.59482727, 0.59088062, 0.58173822, 0.0893482 ],\n",
              "       [0.58717086, 0.57557834, 0.53093167, 0.55482402, 0.22498414],\n",
              "       ...,\n",
              "       [0.74335213, 0.67700267, 0.67923769, 0.64366021, 0.16745535],\n",
              "       [0.68677105, 0.64928448, 0.64932401, 0.67963128, 0.16856133],\n",
              "       [0.72639123, 0.72760975, 0.73960537, 0.74762346, 0.05975741]])"
            ]
          },
          "metadata": {},
          "execution_count": 111
        }
      ]
    },
    {
      "cell_type": "code",
      "metadata": {
        "id": "oxPNfIUgFbRJ"
      },
      "source": [
        "x_test=[]\n",
        "y_test=[] \n",
        "for i in range(60,inputs.shape[0]):\n",
        "  x_test.append(training_data[i-60:i])\n",
        "  y_test.append(training_data[i,0])"
      ],
      "execution_count": 112,
      "outputs": []
    },
    {
      "cell_type": "code",
      "metadata": {
        "id": "Hpchf89BF1Tq"
      },
      "source": [
        "x_test,y_test=np.array(x_test),np.array(y_test)"
      ],
      "execution_count": 113,
      "outputs": []
    },
    {
      "cell_type": "code",
      "metadata": {
        "colab": {
          "base_uri": "https://localhost:8080/"
        },
        "id": "YBFIrW1DF_cH",
        "outputId": "d2af46ca-9d51-41ec-e580-23ab4539db71"
      },
      "source": [
        "x_test.shape,y_test.shape"
      ],
      "execution_count": 114,
      "outputs": [
        {
          "output_type": "execute_result",
          "data": {
            "text/plain": [
              "((192, 60, 5), (192,))"
            ]
          },
          "metadata": {},
          "execution_count": 114
        }
      ]
    },
    {
      "cell_type": "markdown",
      "metadata": {
        "id": "axjLOcbAGrij"
      },
      "source": [
        "###  now finaly predict value using  our train model"
      ]
    },
    {
      "cell_type": "code",
      "metadata": {
        "id": "7hKC0I-wGJ0Y"
      },
      "source": [
        "y_pred=regressior.predict(x_test)"
      ],
      "execution_count": 115,
      "outputs": []
    },
    {
      "cell_type": "markdown",
      "metadata": {
        "id": "igOcHWD_HGvq"
      },
      "source": [
        "#### now we scale our predicted value to in normal form"
      ]
    },
    {
      "cell_type": "code",
      "metadata": {
        "colab": {
          "base_uri": "https://localhost:8080/"
        },
        "id": "LlsmfhRRGghg",
        "outputId": "931e0034-b1e0-439a-933a-472f37764700"
      },
      "source": [
        "scaler.scale_"
      ],
      "execution_count": 116,
      "outputs": [
        {
          "output_type": "execute_result",
          "data": {
            "text/plain": [
              "array([3.33222286e-03, 3.49980700e-03, 3.37626754e-03, 3.21171650e-03,\n",
              "       1.81307225e-07])"
            ]
          },
          "metadata": {},
          "execution_count": 116
        }
      ]
    },
    {
      "cell_type": "code",
      "metadata": {
        "colab": {
          "base_uri": "https://localhost:8080/"
        },
        "id": "N3miSCPZGipR",
        "outputId": "47d425b1-05d4-4a86-d9d3-86fc590a2e50"
      },
      "source": [
        "scale=1/3.33222286e-03\n",
        "scale"
      ],
      "execution_count": 117,
      "outputs": [
        {
          "output_type": "execute_result",
          "data": {
            "text/plain": [
              "300.0999759061733"
            ]
          },
          "metadata": {},
          "execution_count": 117
        }
      ]
    },
    {
      "cell_type": "code",
      "metadata": {
        "id": "R6XvADHL_ShM"
      },
      "source": [
        "y_pred = y_pred*scale\n",
        "y_test = y_test*scale"
      ],
      "execution_count": 118,
      "outputs": []
    },
    {
      "cell_type": "code",
      "metadata": {
        "colab": {
          "base_uri": "https://localhost:8080/",
          "height": 350
        },
        "id": "hxWcBEoQHelQ",
        "outputId": "9aa64e91-1ed4-4cd0-8aa8-6e8d6bdadbcc"
      },
      "source": [
        "# Visualising the results\n",
        "plt.figure(figsize=(14,5))\n",
        "plt.plot(y_test, color = 'red', label = 'Real Google Stock Price')\n",
        "plt.plot(y_pred, color = 'blue', label = 'Predicted Google Stock Price')\n",
        "plt.title('Google Stock Price Prediction')\n",
        "plt.xlabel('Time')\n",
        "plt.ylabel('Google Stock Price')\n",
        "plt.legend()\n",
        "plt.show()"
      ],
      "execution_count": 119,
      "outputs": [
        {
          "output_type": "display_data",
          "data": {
            "image/png": "[encoded data removed]",
            "text/plain": [
              "<Figure size 1008x360 with 1 Axes>"
            ]
          },
          "metadata": {
            "needs_background": "light"
          }
        }
      ]
    },
    {
      "cell_type": "code",
      "metadata": {
        "id": "RbTY4jQeIfGi"
      },
      "source": [
        ""
      ],
      "execution_count": null,
      "outputs": []
    }
  ]
}